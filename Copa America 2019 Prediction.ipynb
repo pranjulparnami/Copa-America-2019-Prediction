{
 "cells": [
  {
   "cell_type": "markdown",
   "metadata": {},
   "source": [
    "# Copa America 2019 Prediction\n",
    "The purpose of this is to try and predict the top 3 teams for Copa America 2019 using classification models coupled with poisson distribution to predict the exact results of the semi-finals, third place playoff and final."
   ]
  },
  {
   "cell_type": "markdown",
   "metadata": {},
   "source": [
    "## Final Predictions\n",
    "__Winner:__ Brazil <br>\n",
    "__Runners-up:__ Argentina <br>\n",
    "__Third Place:__ Uruguay <br>\n",
    "__Fourth Place:__ Colombia <br>\n",
    "__Final Score:__ Brazil 2:1 Argentina <br>\n",
    "__Third Place Playoff Score:__ Uruguay 1:0 Colombia <br>"
   ]
  },
  {
   "cell_type": "markdown",
   "metadata": {},
   "source": [
    "### Contents:\n",
    "1. Importing Necessary Packages/Datasets\n",
    "2. Data Cleaning\n",
    "3. Classification Models for Predicting Results __(Win/Draw/Lose)__\n",
    "     - Variables Used:\n",
    "          - Which Stadium the match is played in __(0-Neutral, 1-Otherwise)__.\n",
    "          - __Importance__ of match (0-Friendly, 1-Others).\n",
    "          - How much the Home Team's __Points__ have changed.\n",
    "          - How much the Away Team's __Points__ have changed.\n",
    "          - Difference in team's __Ranking__.\n",
    "          - Difference in __Mean Weighted Points__ over the past 3 years.\n",
    "4. Classification Models to Predict exact __Home/Away Goals__.\n",
    "     - Variables used are same as in 3.\n",
    "5. Visualizing __Current Ability__ and __Potential__ of players of participating nations\n",
    "6. Variables to build a __Poisson__ Model\n",
    "     - Variables used:\n",
    "          - Soccer Power Index\n",
    "          - Average Age\n",
    "          - Average Height\n",
    "          - Past Participation\n",
    "          - Average goals scored per game\n",
    "          - Average goals conceded per game\n",
    "          - Potential\n",
    "          - Current Ability\n",
    "7. Predicting Copa America 2019"
   ]
  },
  {
   "cell_type": "markdown",
   "metadata": {},
   "source": [
    "## 1. Importing Necessary Packages/Datasets"
   ]
  },
  {
   "cell_type": "code",
   "execution_count": 1,
   "metadata": {},
   "outputs": [],
   "source": [
    "%matplotlib inline\n",
    "import pandas as pd\n",
    "import numpy as np\n",
    "import matplotlib.pyplot as plt\n",
    "from sklearn.model_selection import train_test_split, KFold, cross_val_score, GridSearchCV\n",
    "from sklearn.metrics import confusion_matrix, accuracy_score, precision_score, f1_score\n",
    "from sklearn.preprocessing import StandardScaler\n",
    "from scipy.stats import poisson\n",
    "import random\n",
    "import warnings\n",
    "warnings.filterwarnings('ignore')"
   ]
  },
  {
   "cell_type": "markdown",
   "metadata": {},
   "source": [
    "###### Classifiers Libraries"
   ]
  },
  {
   "cell_type": "code",
   "execution_count": 2,
   "metadata": {},
   "outputs": [],
   "source": [
    "from sklearn.linear_model import LogisticRegression\n",
    "from sklearn.svm import SVC\n",
    "from sklearn.neighbors import KNeighborsClassifier\n",
    "from sklearn.tree import DecisionTreeClassifier\n",
    "from sklearn.ensemble import RandomForestClassifier\n",
    "import xgboost as xgb"
   ]
  },
  {
   "cell_type": "code",
   "execution_count": 3,
   "metadata": {},
   "outputs": [],
   "source": [
    "result=pd.read_csv(r\"E:\\ML\\Project\\results.csv\")\n",
    "ranking=pd.read_csv(r\"E:\\ML\\Project\\ranking.csv\",encoding='latin-1')\n",
    "squads = pd.read_csv(r'E:\\ML\\Project\\squads_upd.csv')\n",
    "fifa19 = pd.read_csv(r'E:\\ML\\Project\\fifa19_cleaned.csv')\n",
    "df=pd.read_csv(r\"E:\\ML\\Project\\spi.csv\")\n",
    "history=pd.read_csv(r'E:\\ML\\Project\\history team.csv',delimiter='\\t')\n",
    "fixtures=pd.read_csv(r'E:\\ML\\Project\\copa_fixtures.csv')"
   ]
  },
  {
   "cell_type": "markdown",
   "metadata": {},
   "source": [
    "## 2. Data Cleaning"
   ]
  },
  {
   "cell_type": "markdown",
   "metadata": {},
   "source": [
    "Function to calculate __Mean Weighted Points__ over the past 3 years."
   ]
  },
  {
   "cell_type": "code",
   "execution_count": 4,
   "metadata": {},
   "outputs": [],
   "source": [
    "def meanWeighted(l,year,country):\n",
    "    if l>2:\n",
    "        currentYear = int(ranking.ix[(ranking['country_full']==country) & (ranking['year']==[year])]['mean_pts'].head(1))\n",
    "        previousYear = int(ranking.ix[(ranking['country_full']==country) & (ranking['year']==[year-1])]['mean_pts'].head(1))\n",
    "        previous2Year = int(ranking.ix[(ranking['country_full']==country) & (ranking['year']==[year-2])]['mean_pts'].head(1))\n",
    "        weighted = (0.5*currentYear)+(0.3*previousYear)+(0.2*previous2Year)\n",
    "    elif l==2 and year>=2012:\n",
    "        currentYear = int(ranking.ix[(ranking['country_full']==country) & (ranking['year']==[year])]['mean_pts'].head(1))\n",
    "        previousYear = int(ranking.ix[(ranking['country_full']==country) & (ranking['year']==[year-1])]['mean_pts'].head(1))\n",
    "        weighted = (0.6*currentYear)+(0.4*previousYear)\n",
    "    else:\n",
    "        weighted = int(ranking[(ranking['year']==year)]['mean_pts'].head(1))\n",
    "    return weighted"
   ]
  },
  {
   "cell_type": "code",
   "execution_count": 5,
   "metadata": {},
   "outputs": [],
   "source": [
    "countries = ranking.country_full.unique().tolist()\n",
    "countries.sort()\n",
    "\n",
    "result = result[result.home_team.isin(countries)]\n",
    "result = result[result.away_team.isin(countries)]"
   ]
  },
  {
   "cell_type": "code",
   "execution_count": 6,
   "metadata": {},
   "outputs": [],
   "source": [
    "ranking['pts_diff'] = round(ranking['total_points'] - ranking['previous_points'])\n",
    "ranking['rank_date'] = pd.to_datetime(ranking['rank_date'], format='%d-%m-%Y')\n",
    "ranking.rename(columns={'rank_date':'date'},inplace=True)\n",
    "ranking['day'] = ranking['date'].dt.day\n",
    "ranking['month'] = ranking['date'].dt.month\n",
    "ranking['year'] = ranking['date'].dt.year\n",
    "ranking['mean_pts'] = ranking.groupby(['country_full','year']).transform(lambda x: x.mean())['total_points']\n",
    "ranking['mean_weighted'] = 0\n",
    "for country in countries:\n",
    "    years = ranking.ix[ranking['country_full']==country]['year'].unique().tolist()\n",
    "    years.sort(reverse=True)\n",
    "    l = len(years)\n",
    "    for year in years:\n",
    "        ranking['mean_weighted'] = np.where((ranking['year']==year) & (ranking['country_full']==country),meanWeighted(l,year,country),ranking['mean_weighted'])\n",
    "        l -= 1"
   ]
  },
  {
   "cell_type": "code",
   "execution_count": 7,
   "metadata": {},
   "outputs": [
    {
     "data": {
      "text/html": [
       "<div>\n",
       "<style scoped>\n",
       "    .dataframe tbody tr th:only-of-type {\n",
       "        vertical-align: middle;\n",
       "    }\n",
       "\n",
       "    .dataframe tbody tr th {\n",
       "        vertical-align: top;\n",
       "    }\n",
       "\n",
       "    .dataframe thead th {\n",
       "        text-align: right;\n",
       "    }\n",
       "</style>\n",
       "<table border=\"1\" class=\"dataframe\">\n",
       "  <thead>\n",
       "    <tr style=\"text-align: right;\">\n",
       "      <th></th>\n",
       "      <th>rank</th>\n",
       "      <th>country_full</th>\n",
       "      <th>total_points</th>\n",
       "      <th>confederation</th>\n",
       "      <th>pts_diff</th>\n",
       "      <th>day</th>\n",
       "      <th>month</th>\n",
       "      <th>year</th>\n",
       "      <th>mean_pts</th>\n",
       "      <th>mean_weighted</th>\n",
       "    </tr>\n",
       "  </thead>\n",
       "  <tbody>\n",
       "    <tr>\n",
       "      <th>0</th>\n",
       "      <td>1</td>\n",
       "      <td>Netherlands</td>\n",
       "      <td>1596.13</td>\n",
       "      <td>UEFA</td>\n",
       "      <td>54.0</td>\n",
       "      <td>24</td>\n",
       "      <td>8</td>\n",
       "      <td>2011</td>\n",
       "      <td>1464.624</td>\n",
       "      <td>1464.0</td>\n",
       "    </tr>\n",
       "    <tr>\n",
       "      <th>1</th>\n",
       "      <td>2</td>\n",
       "      <td>Spain</td>\n",
       "      <td>1563.45</td>\n",
       "      <td>UEFA</td>\n",
       "      <td>-25.0</td>\n",
       "      <td>24</td>\n",
       "      <td>8</td>\n",
       "      <td>2011</td>\n",
       "      <td>1584.144</td>\n",
       "      <td>1464.0</td>\n",
       "    </tr>\n",
       "    <tr>\n",
       "      <th>2</th>\n",
       "      <td>3</td>\n",
       "      <td>Germany</td>\n",
       "      <td>1329.86</td>\n",
       "      <td>UEFA</td>\n",
       "      <td>25.0</td>\n",
       "      <td>24</td>\n",
       "      <td>8</td>\n",
       "      <td>2011</td>\n",
       "      <td>1332.530</td>\n",
       "      <td>1464.0</td>\n",
       "    </tr>\n",
       "  </tbody>\n",
       "</table>\n",
       "</div>"
      ],
      "text/plain": [
       "   rank country_full  total_points confederation  pts_diff  day  month  year  \\\n",
       "0     1  Netherlands       1596.13          UEFA      54.0   24      8  2011   \n",
       "1     2        Spain       1563.45          UEFA     -25.0   24      8  2011   \n",
       "2     3      Germany       1329.86          UEFA      25.0   24      8  2011   \n",
       "\n",
       "   mean_pts  mean_weighted  \n",
       "0  1464.624         1464.0  \n",
       "1  1584.144         1464.0  \n",
       "2  1332.530         1464.0  "
      ]
     },
     "execution_count": 7,
     "metadata": {},
     "output_type": "execute_result"
    }
   ],
   "source": [
    "current_ranking = ranking[ranking['date']=='2019-06-14']\n",
    "ranking.drop(['date','previous_points'],axis=1,inplace=True)\n",
    "ranking.head(3)"
   ]
  },
  {
   "cell_type": "code",
   "execution_count": 8,
   "metadata": {},
   "outputs": [
    {
     "data": {
      "text/html": [
       "<div>\n",
       "<style scoped>\n",
       "    .dataframe tbody tr th:only-of-type {\n",
       "        vertical-align: middle;\n",
       "    }\n",
       "\n",
       "    .dataframe tbody tr th {\n",
       "        vertical-align: top;\n",
       "    }\n",
       "\n",
       "    .dataframe thead th {\n",
       "        text-align: right;\n",
       "    }\n",
       "</style>\n",
       "<table border=\"1\" class=\"dataframe\">\n",
       "  <thead>\n",
       "    <tr style=\"text-align: right;\">\n",
       "      <th></th>\n",
       "      <th>date</th>\n",
       "      <th>rank</th>\n",
       "      <th>country_full</th>\n",
       "      <th>total_points</th>\n",
       "      <th>previous_points</th>\n",
       "      <th>confederation</th>\n",
       "      <th>pts_diff</th>\n",
       "      <th>day</th>\n",
       "      <th>month</th>\n",
       "      <th>year</th>\n",
       "      <th>mean_pts</th>\n",
       "      <th>mean_weighted</th>\n",
       "    </tr>\n",
       "  </thead>\n",
       "  <tbody>\n",
       "    <tr>\n",
       "      <th>19524</th>\n",
       "      <td>2019-06-14</td>\n",
       "      <td>1</td>\n",
       "      <td>Belgium</td>\n",
       "      <td>1746.0</td>\n",
       "      <td>1737</td>\n",
       "      <td>UEFA</td>\n",
       "      <td>9.0</td>\n",
       "      <td>14</td>\n",
       "      <td>6</td>\n",
       "      <td>2019</td>\n",
       "      <td>1733.500000</td>\n",
       "      <td>1579.5</td>\n",
       "    </tr>\n",
       "    <tr>\n",
       "      <th>19525</th>\n",
       "      <td>2019-06-14</td>\n",
       "      <td>2</td>\n",
       "      <td>France</td>\n",
       "      <td>1718.0</td>\n",
       "      <td>1734</td>\n",
       "      <td>UEFA</td>\n",
       "      <td>-16.0</td>\n",
       "      <td>14</td>\n",
       "      <td>6</td>\n",
       "      <td>2019</td>\n",
       "      <td>1727.333333</td>\n",
       "      <td>1542.4</td>\n",
       "    </tr>\n",
       "    <tr>\n",
       "      <th>19526</th>\n",
       "      <td>2019-06-14</td>\n",
       "      <td>3</td>\n",
       "      <td>Brazil</td>\n",
       "      <td>1681.0</td>\n",
       "      <td>1676</td>\n",
       "      <td>CONMEBOL</td>\n",
       "      <td>5.0</td>\n",
       "      <td>14</td>\n",
       "      <td>6</td>\n",
       "      <td>2019</td>\n",
       "      <td>1676.833333</td>\n",
       "      <td>1618.7</td>\n",
       "    </tr>\n",
       "  </tbody>\n",
       "</table>\n",
       "</div>"
      ],
      "text/plain": [
       "            date  rank country_full  total_points  previous_points  \\\n",
       "19524 2019-06-14     1      Belgium        1746.0             1737   \n",
       "19525 2019-06-14     2       France        1718.0             1734   \n",
       "19526 2019-06-14     3       Brazil        1681.0             1676   \n",
       "\n",
       "      confederation  pts_diff  day  month  year     mean_pts  mean_weighted  \n",
       "19524          UEFA       9.0   14      6  2019  1733.500000         1579.5  \n",
       "19525          UEFA     -16.0   14      6  2019  1727.333333         1542.4  \n",
       "19526      CONMEBOL       5.0   14      6  2019  1676.833333         1618.7  "
      ]
     },
     "execution_count": 8,
     "metadata": {},
     "output_type": "execute_result"
    }
   ],
   "source": [
    "current_ranking.head(3)"
   ]
  },
  {
   "cell_type": "code",
   "execution_count": 9,
   "metadata": {},
   "outputs": [],
   "source": [
    "result['date'] = pd.to_datetime(result['date'], format='%d-%m-%Y')\n",
    "result['day'] = result['date'].dt.day\n",
    "result['month'] = result['date'].dt.month\n",
    "result['year'] = result['date'].dt.year\n",
    "\n",
    "result['results'] = np.where(result['home_score']>result['away_score'],2,np.where(result['home_score']==result['away_score'],1,0))\n",
    "result['impt'] = np.where(result['tournament']=='Friendly',0,1)\n",
    "result['host'] = np.where((result['country']==result['home_team']) | (result['country']==result['away_team']),1,0)\n",
    "result.drop(['date','city','tournament','country'],axis=1,inplace=True)"
   ]
  },
  {
   "cell_type": "code",
   "execution_count": 10,
   "metadata": {},
   "outputs": [
    {
     "data": {
      "text/html": [
       "<div>\n",
       "<style scoped>\n",
       "    .dataframe tbody tr th:only-of-type {\n",
       "        vertical-align: middle;\n",
       "    }\n",
       "\n",
       "    .dataframe tbody tr th {\n",
       "        vertical-align: top;\n",
       "    }\n",
       "\n",
       "    .dataframe thead th {\n",
       "        text-align: right;\n",
       "    }\n",
       "</style>\n",
       "<table border=\"1\" class=\"dataframe\">\n",
       "  <thead>\n",
       "    <tr style=\"text-align: right;\">\n",
       "      <th></th>\n",
       "      <th>home_team</th>\n",
       "      <th>away_team</th>\n",
       "      <th>home_score</th>\n",
       "      <th>away_score</th>\n",
       "      <th>neutral</th>\n",
       "      <th>day</th>\n",
       "      <th>month</th>\n",
       "      <th>year</th>\n",
       "      <th>results</th>\n",
       "      <th>impt</th>\n",
       "      <th>host</th>\n",
       "      <th>home_pts_diff</th>\n",
       "      <th>away_pts_diff</th>\n",
       "      <th>rank_diff</th>\n",
       "      <th>mean_diff</th>\n",
       "      <th>weighted_diff</th>\n",
       "    </tr>\n",
       "  </thead>\n",
       "  <tbody>\n",
       "    <tr>\n",
       "      <th>6658</th>\n",
       "      <td>Norway</td>\n",
       "      <td>Sweden</td>\n",
       "      <td>3</td>\n",
       "      <td>3</td>\n",
       "      <td>False</td>\n",
       "      <td>26</td>\n",
       "      <td>3</td>\n",
       "      <td>2019</td>\n",
       "      <td>1</td>\n",
       "      <td>1</td>\n",
       "      <td>1</td>\n",
       "      <td>0.0</td>\n",
       "      <td>0.0</td>\n",
       "      <td>34.0</td>\n",
       "      <td>-138.000000</td>\n",
       "      <td>-221.8</td>\n",
       "    </tr>\n",
       "    <tr>\n",
       "      <th>6659</th>\n",
       "      <td>Romania</td>\n",
       "      <td>Faroe Islands</td>\n",
       "      <td>4</td>\n",
       "      <td>1</td>\n",
       "      <td>False</td>\n",
       "      <td>26</td>\n",
       "      <td>3</td>\n",
       "      <td>2019</td>\n",
       "      <td>2</td>\n",
       "      <td>1</td>\n",
       "      <td>1</td>\n",
       "      <td>0.0</td>\n",
       "      <td>0.0</td>\n",
       "      <td>-72.0</td>\n",
       "      <td>275.333333</td>\n",
       "      <td>293.9</td>\n",
       "    </tr>\n",
       "    <tr>\n",
       "      <th>6660</th>\n",
       "      <td>Bosnia and Herzegovina</td>\n",
       "      <td>Greece</td>\n",
       "      <td>2</td>\n",
       "      <td>2</td>\n",
       "      <td>False</td>\n",
       "      <td>26</td>\n",
       "      <td>3</td>\n",
       "      <td>2019</td>\n",
       "      <td>1</td>\n",
       "      <td>1</td>\n",
       "      <td>1</td>\n",
       "      <td>0.0</td>\n",
       "      <td>0.0</td>\n",
       "      <td>-10.0</td>\n",
       "      <td>45.333333</td>\n",
       "      <td>53.7</td>\n",
       "    </tr>\n",
       "    <tr>\n",
       "      <th>6661</th>\n",
       "      <td>Italy</td>\n",
       "      <td>Liechtenstein</td>\n",
       "      <td>6</td>\n",
       "      <td>0</td>\n",
       "      <td>False</td>\n",
       "      <td>26</td>\n",
       "      <td>3</td>\n",
       "      <td>2019</td>\n",
       "      <td>2</td>\n",
       "      <td>1</td>\n",
       "      <td>1</td>\n",
       "      <td>0.0</td>\n",
       "      <td>0.0</td>\n",
       "      <td>-163.0</td>\n",
       "      <td>614.833333</td>\n",
       "      <td>744.0</td>\n",
       "    </tr>\n",
       "    <tr>\n",
       "      <th>6662</th>\n",
       "      <td>Armenia</td>\n",
       "      <td>Finland</td>\n",
       "      <td>0</td>\n",
       "      <td>2</td>\n",
       "      <td>False</td>\n",
       "      <td>26</td>\n",
       "      <td>3</td>\n",
       "      <td>2019</td>\n",
       "      <td>0</td>\n",
       "      <td>1</td>\n",
       "      <td>1</td>\n",
       "      <td>0.0</td>\n",
       "      <td>-3.0</td>\n",
       "      <td>42.0</td>\n",
       "      <td>-160.666667</td>\n",
       "      <td>-110.8</td>\n",
       "    </tr>\n",
       "  </tbody>\n",
       "</table>\n",
       "</div>"
      ],
      "text/plain": [
       "                   home_team      away_team  home_score  away_score  neutral  \\\n",
       "6658                  Norway         Sweden           3           3    False   \n",
       "6659                 Romania  Faroe Islands           4           1    False   \n",
       "6660  Bosnia and Herzegovina         Greece           2           2    False   \n",
       "6661                   Italy  Liechtenstein           6           0    False   \n",
       "6662                 Armenia        Finland           0           2    False   \n",
       "\n",
       "      day  month  year  results  impt  host  home_pts_diff  away_pts_diff  \\\n",
       "6658   26      3  2019        1     1     1            0.0            0.0   \n",
       "6659   26      3  2019        2     1     1            0.0            0.0   \n",
       "6660   26      3  2019        1     1     1            0.0            0.0   \n",
       "6661   26      3  2019        2     1     1            0.0            0.0   \n",
       "6662   26      3  2019        0     1     1            0.0           -3.0   \n",
       "\n",
       "      rank_diff   mean_diff  weighted_diff  \n",
       "6658       34.0 -138.000000         -221.8  \n",
       "6659      -72.0  275.333333          293.9  \n",
       "6660      -10.0   45.333333           53.7  \n",
       "6661     -163.0  614.833333          744.0  \n",
       "6662       42.0 -160.666667         -110.8  "
      ]
     },
     "execution_count": 10,
     "metadata": {},
     "output_type": "execute_result"
    }
   ],
   "source": [
    "result = pd.merge(left=result, right=ranking, how='left', left_on=['home_team','year','month'], right_on=['country_full','year','month'], suffixes=('_x','_y')).drop(['country_full','day_y','total_points','confederation'],axis=1)\n",
    "result = pd.merge(left=result, right=ranking, how='left', left_on=['away_team','year','month'], right_on=['country_full','year','month'], suffixes=('_x','_y')).drop(['country_full','day','total_points','confederation'],axis=1)\n",
    "result.rename(columns={'day_x':'day','rank_x':'home_rank','rank_y':'away_rank','pts_diff_x':'home_pts_diff','pts_diff_y':'away_pts_diff','mean_pts_x':'home_mean','mean_pts_y':'away_mean','mean_weighted_x':'home_weighted','mean_weighted_y':'away_weighted'},inplace=True)\n",
    "result.update(result[['home_rank','away_rank','home_pts_diff','away_pts_diff','home_mean','away_mean','home_weighted','away_weighted']].fillna(0))\n",
    "result['rank_diff'] = result['home_rank'] - result['away_rank']\n",
    "result['mean_diff'] = result['home_mean'] - result['away_mean']\n",
    "result['weighted_diff'] = result['home_weighted'] - result['away_weighted']\n",
    "result.drop(['home_rank','away_rank','home_mean','away_mean','home_weighted','away_weighted'],axis=1,inplace=True)\n",
    "result.tail()"
   ]
  },
  {
   "cell_type": "markdown",
   "metadata": {},
   "source": [
    "## 3. Predicting Match Results (Win/Draw/Lose)"
   ]
  },
  {
   "cell_type": "markdown",
   "metadata": {},
   "source": [
    " - Variables Used:\n",
    "     - Which Stadium the match is played in __(0-Neutral, 1-Otherwise)__.\n",
    "     - __Importance__ of match (0-Friendly, 1-Others).\n",
    "     - How much the Home Team's __Points__ have changed.\n",
    "     - How much the Away Team's __Points__ have changed.\n",
    "     - Difference in team's __Ranking__.\n",
    "     - Difference in __Mean Weighted Points__ over the past 3 years.\n",
    " \n",
    " - We shall scale the features to speed up the process for __Distance__ based classifiers and also use 5-fold Cross Validation for Accuracy."
   ]
  },
  {
   "cell_type": "markdown",
   "metadata": {},
   "source": [
    "### 3.1 Splitting into Training and Test Sets"
   ]
  },
  {
   "cell_type": "code",
   "execution_count": 11,
   "metadata": {},
   "outputs": [],
   "source": [
    "features = result.loc[0:,['host','impt','home_pts_diff','away_pts_diff','rank_diff','weighted_diff']]\n",
    "labels = result.loc[:,['results']]\n",
    "\n",
    "sc = StandardScaler()\n",
    "features = sc.fit_transform(features)\n",
    "x_train,x_test,y_train,y_test = train_test_split(features, labels, test_size=0.2, random_state=0)\n",
    "x_train = pd.DataFrame(x_train,columns=['host','impt','home_pts_diff','away_pts_diff','rank_diff','weighted_diff'])\n",
    "x_test = pd.DataFrame(x_test,columns=['host','impt','home_pts_diff','away_pts_diff','rank_diff','weighted_diff'])\n",
    "\n",
    "k_fold = KFold(n_splits=5, shuffle=True, random_state=0)"
   ]
  },
  {
   "cell_type": "markdown",
   "metadata": {},
   "source": [
    "### 3.2 Building Classification Models"
   ]
  },
  {
   "cell_type": "markdown",
   "metadata": {},
   "source": [
    "The models will be optimised using GridSearchCV based on F1 score. F1 score gives a weighted average between precision and accuracy/recall. It tells you how precise your classifier is (how many instances it classifies correctly), as well as how robust it is (it does not miss a significant number of instances).\n",
    "\n",
    "I have typed in some of the optimised parameters based on the GridSearchCV code output.\n",
    "\n",
    "Confusion matrix table and details will only be shown for the final selected models in order to save space.\n",
    "\n",
    "There would be a summary of each models in the evaluation section below."
   ]
  },
  {
   "cell_type": "markdown",
   "metadata": {},
   "source": [
    "#### Logistic Regression"
   ]
  },
  {
   "cell_type": "code",
   "execution_count": 12,
   "metadata": {},
   "outputs": [],
   "source": [
    "Logistic_Reg = dict()\n",
    "lr_class = LogisticRegression(C=0.001,n_jobs=-1)\n",
    "lr_class.fit(x_train,y_train)\n",
    "res_predict = lr_class.predict(x_test)\n",
    "train_predict = lr_class.predict(x_train)\n",
    "Logistic_Reg['Train Accuracy'] = round(np.mean(cross_val_score(lr_class,x_train,y_train,cv=k_fold,scoring=\"accuracy\")),2)\n",
    "Logistic_Reg['Test Accuracy'] = round(accuracy_score(y_test,res_predict),2)\n",
    "Logistic_Reg['Train Precision'] = round(precision_score(y_train,train_predict,average='macro'),2)\n",
    "Logistic_Reg['Test Precision'] = round(precision_score(y_test,res_predict,average='macro'),2)\n",
    "Logistic_Reg['Train F1-Score'] = round(f1_score(y_train,train_predict,average='macro'),2)\n",
    "Logistic_Reg['Test F1-Score'] = round(f1_score(y_test,res_predict,average='macro'),2)"
   ]
  },
  {
   "cell_type": "markdown",
   "metadata": {},
   "source": [
    "#### Support Vector Machine (RBF Kernel)"
   ]
  },
  {
   "cell_type": "code",
   "execution_count": 13,
   "metadata": {},
   "outputs": [],
   "source": [
    "SVM = dict()\n",
    "svm_class = SVC(kernel='rbf',gamma=0.001,C=2,probability=True)\n",
    "svm_class.fit(x_train,y_train)\n",
    "res_predict = svm_class.predict(x_test)\n",
    "train_predict = svm_class.predict(x_train)\n",
    "SVM['Train Accuracy'] = round(np.mean(cross_val_score(svm_class,x_train,y_train,cv=k_fold,scoring=\"accuracy\")),2)\n",
    "SVM['Test Accuracy'] = round(accuracy_score(y_test,res_predict),2)\n",
    "SVM['Train Precision'] = round(precision_score(y_train,train_predict,average='macro'),2)\n",
    "SVM['Test Precision'] = round(precision_score(y_test,res_predict,average='macro'),2)\n",
    "SVM['Train F1-Score'] = round(f1_score(y_train,train_predict,average='macro'),2)\n",
    "SVM['Test F1-Score'] = round(f1_score(y_test,res_predict,average='macro'),2)"
   ]
  },
  {
   "cell_type": "markdown",
   "metadata": {},
   "source": [
    "#### Support Vector Machine (Linear Kernel)"
   ]
  },
  {
   "cell_type": "code",
   "execution_count": 14,
   "metadata": {},
   "outputs": [],
   "source": [
    "SVML = dict()\n",
    "svml_class = SVC(kernel='linear', gamma=0.001, C=0.5, probability=True)\n",
    "svml_class.fit(x_train,y_train)\n",
    "res_predict = svml_class.predict(x_test)\n",
    "train_predict = svml_class.predict(x_train)\n",
    "SVML['Train Accuracy'] = round(np.mean(cross_val_score(svml_class,x_train,y_train,cv=k_fold,scoring=\"accuracy\")),2)\n",
    "SVML['Test Accuracy'] = round(accuracy_score(y_test,res_predict),2)\n",
    "SVML['Train Precision'] = round(precision_score(y_train,train_predict,average='macro'),2)\n",
    "SVML['Test Precision'] = round(precision_score(y_test,res_predict,average='macro'),2)\n",
    "SVML['Train F1-Score'] = round(f1_score(y_train,train_predict,average='macro'),2)\n",
    "SVML['Test F1-Score'] = round(f1_score(y_test,res_predict,average='macro'),2)"
   ]
  },
  {
   "cell_type": "markdown",
   "metadata": {},
   "source": [
    "#### K-Nearest Neighbors"
   ]
  },
  {
   "cell_type": "code",
   "execution_count": 15,
   "metadata": {},
   "outputs": [],
   "source": [
    "KNN = dict()\n",
    "knn_class = KNeighborsClassifier(n_neighbors=11,p=2,weights='distance',n_jobs=-1)\n",
    "knn_class.fit(x_train,y_train)\n",
    "res_predict = knn_class.predict(x_test)\n",
    "train_predict = knn_class.predict(x_train)\n",
    "KNN['Train Accuracy'] = round(np.mean(cross_val_score(knn_class,x_train,y_train,cv=k_fold,scoring=\"accuracy\")),2)\n",
    "KNN['Test Accuracy'] = round(accuracy_score(y_test,res_predict),2)\n",
    "KNN['Train Precision'] = round(precision_score(y_train,train_predict,average='macro'),2)\n",
    "KNN['Test Precision'] = round(precision_score(y_test,res_predict,average='macro'),2)\n",
    "KNN['Train F1-Score'] = round(f1_score(y_train,train_predict,average='macro'),2)\n",
    "KNN['Test F1-Score'] = round(f1_score(y_test,res_predict,average='macro'),2)"
   ]
  },
  {
   "cell_type": "markdown",
   "metadata": {},
   "source": [
    "#### Decision Tree"
   ]
  },
  {
   "cell_type": "code",
   "execution_count": 16,
   "metadata": {},
   "outputs": [],
   "source": [
    "DT = dict()\n",
    "dt_class = DecisionTreeClassifier(max_depth= 9, max_leaf_nodes= 80, min_samples_leaf= 6, min_samples_split= 2)\n",
    "dt_class.fit(x_train,y_train)\n",
    "res_predict = dt_class.predict(x_test)\n",
    "train_predict = dt_class.predict(x_train)\n",
    "DT['Train Accuracy'] = round(np.mean(cross_val_score(dt_class,x_train,y_train,cv=k_fold,scoring=\"accuracy\")),2)\n",
    "DT['Test Accuracy'] = round(accuracy_score(y_test,res_predict),2)\n",
    "DT['Train Precision'] = round(precision_score(y_train,train_predict,average='macro'),2)\n",
    "DT['Test Precision'] = round(precision_score(y_test,res_predict,average='macro'),2)\n",
    "DT['Train F1-Score'] = round(f1_score(y_train,train_predict,average='macro'),2)\n",
    "DT['Test F1-Score'] = round(f1_score(y_test,res_predict,average='macro'),2)"
   ]
  },
  {
   "cell_type": "markdown",
   "metadata": {},
   "source": [
    "#### Random Forest"
   ]
  },
  {
   "cell_type": "code",
   "execution_count": 17,
   "metadata": {},
   "outputs": [],
   "source": [
    "RF = dict()\n",
    "rf_class = RandomForestClassifier(n_estimators=250,max_depth= 8, max_leaf_nodes=100, min_samples_leaf= 5, min_samples_split= 5, n_jobs=-1)\n",
    "rf_class.fit(x_train,y_train)\n",
    "res_predict = rf_class.predict(x_test)\n",
    "train_predict = rf_class.predict(x_train)\n",
    "RF['Train Accuracy'] = round(np.mean(cross_val_score(rf_class,x_train,y_train,cv=k_fold,scoring=\"accuracy\")),2)\n",
    "RF['Test Accuracy'] = round(accuracy_score(y_test,res_predict),2)\n",
    "RF['Train Precision'] = round(precision_score(y_train,train_predict,average='macro'),2)\n",
    "RF['Test Precision'] = round(precision_score(y_test,res_predict,average='macro'),2)\n",
    "RF['Train F1-Score'] = round(f1_score(y_train,train_predict,average='macro'),2)\n",
    "RF['Test F1-Score'] = round(f1_score(y_test,res_predict,average='macro'),2)"
   ]
  },
  {
   "cell_type": "markdown",
   "metadata": {},
   "source": [
    "#### XGBoost"
   ]
  },
  {
   "cell_type": "code",
   "execution_count": 18,
   "metadata": {},
   "outputs": [],
   "source": [
    "XGB = dict()\n",
    "xgb_class = xgb.XGBClassifier(max_depth=10, n_estimators=50, learning_rate=0.1, n_jobs=-1)\n",
    "xgb_class.fit(x_train,y_train)\n",
    "res_predict = xgb_class.predict(x_test)\n",
    "train_predict = xgb_class.predict(x_train)\n",
    "XGB['Train Accuracy'] = round(np.mean(cross_val_score(xgb_class,x_train,y_train,cv=k_fold,scoring=\"accuracy\")),2)\n",
    "XGB['Test Accuracy'] = round(accuracy_score(y_test,res_predict),2)\n",
    "XGB['Train Precision'] = round(precision_score(y_train,train_predict,average='macro'),2)\n",
    "XGB['Test Precision'] = round(precision_score(y_test,res_predict,average='macro'),2)\n",
    "XGB['Train F1-Score'] = round(f1_score(y_train,train_predict,average='macro'),2)\n",
    "XGB['Test F1-Score'] = round(f1_score(y_test,res_predict,average='macro'),2)"
   ]
  },
  {
   "cell_type": "markdown",
   "metadata": {},
   "source": [
    "### 3.3 Model Evaluation"
   ]
  },
  {
   "cell_type": "code",
   "execution_count": 19,
   "metadata": {},
   "outputs": [
    {
     "data": {
      "text/html": [
       "<div>\n",
       "<style scoped>\n",
       "    .dataframe tbody tr th:only-of-type {\n",
       "        vertical-align: middle;\n",
       "    }\n",
       "\n",
       "    .dataframe tbody tr th {\n",
       "        vertical-align: top;\n",
       "    }\n",
       "\n",
       "    .dataframe thead th {\n",
       "        text-align: right;\n",
       "    }\n",
       "</style>\n",
       "<table border=\"1\" class=\"dataframe\">\n",
       "  <thead>\n",
       "    <tr style=\"text-align: right;\">\n",
       "      <th></th>\n",
       "      <th>Train Accuracy</th>\n",
       "      <th>Test Accuracy</th>\n",
       "      <th>Train Precision</th>\n",
       "      <th>Test Precision</th>\n",
       "      <th>Train F1-Score</th>\n",
       "      <th>Test F1-Score</th>\n",
       "    </tr>\n",
       "  </thead>\n",
       "  <tbody>\n",
       "    <tr>\n",
       "      <th>Logistic Regession</th>\n",
       "      <td>0.59</td>\n",
       "      <td>0.59</td>\n",
       "      <td>0.39</td>\n",
       "      <td>0.38</td>\n",
       "      <td>0.44</td>\n",
       "      <td>0.44</td>\n",
       "    </tr>\n",
       "    <tr>\n",
       "      <th>Support Vector Machine (RBF)</th>\n",
       "      <td>0.59</td>\n",
       "      <td>0.60</td>\n",
       "      <td>0.39</td>\n",
       "      <td>0.39</td>\n",
       "      <td>0.43</td>\n",
       "      <td>0.44</td>\n",
       "    </tr>\n",
       "    <tr>\n",
       "      <th>Support Vector Machine (Linear)</th>\n",
       "      <td>0.59</td>\n",
       "      <td>0.60</td>\n",
       "      <td>0.39</td>\n",
       "      <td>0.39</td>\n",
       "      <td>0.44</td>\n",
       "      <td>0.44</td>\n",
       "    </tr>\n",
       "    <tr>\n",
       "      <th>K-Nearest Neighbors</th>\n",
       "      <td>0.56</td>\n",
       "      <td>0.57</td>\n",
       "      <td>0.99</td>\n",
       "      <td>0.51</td>\n",
       "      <td>0.99</td>\n",
       "      <td>0.50</td>\n",
       "    </tr>\n",
       "    <tr>\n",
       "      <th>Decision Tree</th>\n",
       "      <td>0.57</td>\n",
       "      <td>0.58</td>\n",
       "      <td>0.62</td>\n",
       "      <td>0.49</td>\n",
       "      <td>0.55</td>\n",
       "      <td>0.47</td>\n",
       "    </tr>\n",
       "    <tr>\n",
       "      <th>Random Forest</th>\n",
       "      <td>0.60</td>\n",
       "      <td>0.61</td>\n",
       "      <td>0.69</td>\n",
       "      <td>0.52</td>\n",
       "      <td>0.57</td>\n",
       "      <td>0.48</td>\n",
       "    </tr>\n",
       "    <tr>\n",
       "      <th>XGBoost</th>\n",
       "      <td>0.58</td>\n",
       "      <td>0.59</td>\n",
       "      <td>0.92</td>\n",
       "      <td>0.53</td>\n",
       "      <td>0.89</td>\n",
       "      <td>0.52</td>\n",
       "    </tr>\n",
       "  </tbody>\n",
       "</table>\n",
       "</div>"
      ],
      "text/plain": [
       "                                 Train Accuracy  Test Accuracy  \\\n",
       "Logistic Regession                         0.59           0.59   \n",
       "Support Vector Machine (RBF)               0.59           0.60   \n",
       "Support Vector Machine (Linear)            0.59           0.60   \n",
       "K-Nearest Neighbors                        0.56           0.57   \n",
       "Decision Tree                              0.57           0.58   \n",
       "Random Forest                              0.60           0.61   \n",
       "XGBoost                                    0.58           0.59   \n",
       "\n",
       "                                 Train Precision  Test Precision  \\\n",
       "Logistic Regession                          0.39            0.38   \n",
       "Support Vector Machine (RBF)                0.39            0.39   \n",
       "Support Vector Machine (Linear)             0.39            0.39   \n",
       "K-Nearest Neighbors                         0.99            0.51   \n",
       "Decision Tree                               0.62            0.49   \n",
       "Random Forest                               0.69            0.52   \n",
       "XGBoost                                     0.92            0.53   \n",
       "\n",
       "                                 Train F1-Score  Test F1-Score  \n",
       "Logistic Regession                         0.44           0.44  \n",
       "Support Vector Machine (RBF)               0.43           0.44  \n",
       "Support Vector Machine (Linear)            0.44           0.44  \n",
       "K-Nearest Neighbors                        0.99           0.50  \n",
       "Decision Tree                              0.55           0.47  \n",
       "Random Forest                              0.57           0.48  \n",
       "XGBoost                                    0.89           0.52  "
      ]
     },
     "execution_count": 19,
     "metadata": {},
     "output_type": "execute_result"
    }
   ],
   "source": [
    "clfResults = pd.DataFrame.from_records([Logistic_Reg,SVM,SVML,KNN,DT,RF,XGB],index=['Logistic Regession','Support Vector Machine (RBF)','Support Vector Machine (Linear)','K-Nearest Neighbors','Decision Tree','Random Forest','XGBoost'])\n",
    "col = clfResults.columns.tolist()\n",
    "col = [col[i] for i in [3,0,5,2,4,1]]\n",
    "clfResults = clfResults[col]\n",
    "clfResults"
   ]
  },
  {
   "cell_type": "markdown",
   "metadata": {},
   "source": [
    "Although __XGBoost__ has the highest __F1-Score__, we will use __Random Forest Classifier__ as it has higher __Test Accuracy__ and __Test Precision__ values with __F1-Score__ almost being the same as XGBoost. In XGboost, the difference between Training and Test Precision, and Train and Test F1-Score is higher, which makes it overfitted."
   ]
  },
  {
   "cell_type": "markdown",
   "metadata": {},
   "source": [
    "#### Confusion Matrix for the Selected Model"
   ]
  },
  {
   "cell_type": "code",
   "execution_count": 20,
   "metadata": {},
   "outputs": [
    {
     "data": {
      "text/html": [
       "<div>\n",
       "<style scoped>\n",
       "    .dataframe tbody tr th:only-of-type {\n",
       "        vertical-align: middle;\n",
       "    }\n",
       "\n",
       "    .dataframe tbody tr th {\n",
       "        vertical-align: top;\n",
       "    }\n",
       "\n",
       "    .dataframe thead th {\n",
       "        text-align: right;\n",
       "    }\n",
       "</style>\n",
       "<table border=\"1\" class=\"dataframe\">\n",
       "  <thead>\n",
       "    <tr style=\"text-align: right;\">\n",
       "      <th></th>\n",
       "      <th>Actual Away Win</th>\n",
       "      <th>Actual Draw</th>\n",
       "      <th>Actual Home Win</th>\n",
       "    </tr>\n",
       "  </thead>\n",
       "  <tbody>\n",
       "    <tr>\n",
       "      <th>Predicted Away Win</th>\n",
       "      <td>1063</td>\n",
       "      <td>329</td>\n",
       "      <td>212</td>\n",
       "    </tr>\n",
       "    <tr>\n",
       "      <th>Predicted Draw</th>\n",
       "      <td>32</td>\n",
       "      <td>205</td>\n",
       "      <td>31</td>\n",
       "    </tr>\n",
       "    <tr>\n",
       "      <th>Predicted Home Win</th>\n",
       "      <td>437</td>\n",
       "      <td>758</td>\n",
       "      <td>2263</td>\n",
       "    </tr>\n",
       "  </tbody>\n",
       "</table>\n",
       "</div>"
      ],
      "text/plain": [
       "                    Actual Away Win  Actual Draw  Actual Home Win\n",
       "Predicted Away Win             1063          329              212\n",
       "Predicted Draw                   32          205               31\n",
       "Predicted Home Win              437          758             2263"
      ]
     },
     "execution_count": 20,
     "metadata": {},
     "output_type": "execute_result"
    }
   ],
   "source": [
    "cm=confusion_matrix(y_train,rf_class.predict(x_train))\n",
    "col=[\"Predicted Away Win\",\"Predicted Draw\",\"Predicted Home Win\"]\n",
    "cm=pd.DataFrame(cm)\n",
    "cm.columns=[\"Predicted Away Win\",\"Predicted Draw\",\"Predicted Home Win\"]\n",
    "cm.index=[\"Actual Away Win\",\"Actual Draw\",\"Actual Home Win\"]\n",
    "cm.T"
   ]
  },
  {
   "cell_type": "markdown",
   "metadata": {},
   "source": [
    "##### Important Features for the Selected Model"
   ]
  },
  {
   "cell_type": "code",
   "execution_count": 21,
   "metadata": {},
   "outputs": [
    {
     "data": {
      "text/plain": [
       "(0, 0.4)"
      ]
     },
     "execution_count": 21,
     "metadata": {},
     "output_type": "execute_result"
    },
    {
     "data": {
      "image/png": "[encoded data removed]",
      "text/plain": [
       "<Figure size 432x288 with 1 Axes>"
      ]
     },
     "metadata": {
      "needs_background": "light"
     },
     "output_type": "display_data"
    }
   ],
   "source": [
    "impFeatures = pd.DataFrame()\n",
    "impFeatures['Feature'] = ['Host of the match', 'Importance of match', 'Points Difference of Home Team', 'Points Difference of Away Team', 'Difference between Rank of both teams', 'Difference between Mean Weighted Ratings']\n",
    "impFeatures['Feature Importance'] = rf_class.feature_importances_\n",
    "impFeatures.sort_values(by=['Feature Importance'], ascending=True, inplace=True)\n",
    "fig, ax = plt.subplots(figsize=(6,4))\n",
    "ax.hlines(impFeatures['Feature'], xmin=0, xmax=impFeatures['Feature Importance'])\n",
    "ax.plot(impFeatures['Feature Importance'],impFeatures['Feature'],\"o\",color='black')\n",
    "ax.set_xlim(0,0.4)"
   ]
  },
  {
   "cell_type": "markdown",
   "metadata": {},
   "source": [
    "## 4. Predicting Goals Scored by Home and Away Teams"
   ]
  },
  {
   "cell_type": "markdown",
   "metadata": {},
   "source": [
    "Variables used are same as in __3__."
   ]
  },
  {
   "cell_type": "markdown",
   "metadata": {},
   "source": [
    "### 4.1 Splitting into Training and Test Sets"
   ]
  },
  {
   "cell_type": "code",
   "execution_count": 22,
   "metadata": {},
   "outputs": [],
   "source": [
    "features = result.loc[0:,['host','impt','home_pts_diff','away_pts_diff','rank_diff','weighted_diff']]\n",
    "labels_home = result.loc[:,['home_score']]\n",
    "labels_away = result.loc[:,['away_score']]\n",
    "\n",
    "sc = StandardScaler()\n",
    "features = sc.fit_transform(features)\n",
    "x_home_train,x_home_test,y_home_train,y_home_test = train_test_split(features, labels_home, test_size=0.2, random_state=0)\n",
    "x_away_train,x_away_test,y_away_train,y_away_test = train_test_split(features, labels_away, test_size=0.2, random_state=0)\n",
    "\n",
    "x_home_train = pd.DataFrame(x_train,columns=['host','impt','home_pts_diff','away_pts_diff','rank_diff','weighted_diff'])\n",
    "x_home_test = pd.DataFrame(x_test,columns=['host','impt','home_pts_diff','away_pts_diff','rank_diff','weighted_diff'])\n",
    "x_away_train = pd.DataFrame(x_train,columns=['host','impt','home_pts_diff','away_pts_diff','rank_diff','weighted_diff'])\n",
    "x_away_test = pd.DataFrame(x_test,columns=['host','impt','home_pts_diff','away_pts_diff','rank_diff','weighted_diff'])\n",
    "\n",
    "k_fold = KFold(n_splits=5, shuffle=True, random_state=0)"
   ]
  },
  {
   "cell_type": "markdown",
   "metadata": {},
   "source": [
    "### 4.2 Predicting goals scored by Home team"
   ]
  },
  {
   "cell_type": "markdown",
   "metadata": {},
   "source": [
    "As done in previous section, models will be optimised using GridSearchCV based on F1-Score.\n",
    "\n",
    "I have typed in some of the optimised parameters based on the GridSearchCV code output.\n",
    "\n",
    "There would be a summary of each models in the evaluation section below."
   ]
  },
  {
   "cell_type": "markdown",
   "metadata": {},
   "source": [
    "#### Logistic Regression"
   ]
  },
  {
   "cell_type": "code",
   "execution_count": 23,
   "metadata": {},
   "outputs": [],
   "source": [
    "Logistic_Reg_Home = dict()\n",
    "lr_home = LogisticRegression(C=0.0001, n_jobs=-1)\n",
    "lr_home.fit(x_home_train,y_home_train)\n",
    "res_predict = lr_home.predict(x_home_test)\n",
    "train_predict = lr_home.predict(x_home_train)\n",
    "Logistic_Reg_Home['Train Accuracy'] = round(np.mean(cross_val_score(lr_home,x_home_train,y_home_train,cv=k_fold,scoring=\"accuracy\")),2)\n",
    "Logistic_Reg_Home['Test Accuracy'] = round(accuracy_score(y_home_test,res_predict),2)\n",
    "Logistic_Reg_Home['Train Precision'] = round(precision_score(y_home_train,train_predict,average='macro'),2)\n",
    "Logistic_Reg_Home['Test Precision'] = round(precision_score(y_home_test,res_predict,average='macro'),2)\n",
    "Logistic_Reg_Home['Train F1-Score'] = round(f1_score(y_home_train,train_predict,average='macro'),2)\n",
    "Logistic_Reg_Home['Test F1-Score'] = round(f1_score(y_home_test,res_predict,average='macro'),2)"
   ]
  },
  {
   "cell_type": "markdown",
   "metadata": {},
   "source": [
    "#### Support Vector Machine (RBF Kernel)"
   ]
  },
  {
   "cell_type": "code",
   "execution_count": 24,
   "metadata": {},
   "outputs": [],
   "source": [
    "SVM_Home = dict()\n",
    "svm_home = SVC(kernel='rbf', gamma=0.001, C=2, probability=True)\n",
    "svm_home.fit(x_home_train,y_home_train)\n",
    "res_predict = svm_home.predict(x_home_test)\n",
    "train_predict = svm_home.predict(x_home_train)\n",
    "SVM_Home['Train Accuracy'] = round(np.mean(cross_val_score(svm_home,x_home_train,y_home_train,cv=k_fold,scoring=\"accuracy\")),2)\n",
    "SVM_Home['Test Accuracy'] = round(accuracy_score(y_home_test,res_predict),2)\n",
    "SVM_Home['Train Precision'] = round(precision_score(y_home_train,train_predict,average='macro'),2)\n",
    "SVM_Home['Test Precision'] = round(precision_score(y_home_test,res_predict,average='macro'),2)\n",
    "SVM_Home['Train F1-Score'] = round(f1_score(y_home_train,train_predict,average='macro'),2)\n",
    "SVM_Home['Test F1-Score'] = round(f1_score(y_home_test,res_predict,average='macro'),2)"
   ]
  },
  {
   "cell_type": "markdown",
   "metadata": {},
   "source": [
    "#### K-Nearest Neighbors"
   ]
  },
  {
   "cell_type": "code",
   "execution_count": 25,
   "metadata": {},
   "outputs": [],
   "source": [
    "KNN_Home = dict()\n",
    "knn_home = KNeighborsClassifier(n_neighbors=19, p=1, weights='distance', n_jobs=-1)\n",
    "knn_home.fit(x_home_train,y_home_train)\n",
    "res_predict = knn_home.predict(x_home_test)\n",
    "train_predict = knn_home.predict(x_home_train)\n",
    "KNN_Home['Train Accuracy'] = round(np.mean(cross_val_score(knn_home,x_home_train,y_home_train,cv=k_fold,scoring=\"accuracy\")),2)\n",
    "KNN_Home['Test Accuracy'] = round(accuracy_score(y_home_test,res_predict),2)\n",
    "KNN_Home['Train Precision'] = round(precision_score(y_home_train,train_predict,average='macro'),2)\n",
    "KNN_Home['Test Precision'] = round(precision_score(y_home_test,res_predict,average='macro'),2)\n",
    "KNN_Home['Train F1-Score'] = round(f1_score(y_home_train,train_predict,average='macro'),2)\n",
    "KNN_Home['Test F1-Score'] = round(f1_score(y_home_test,res_predict,average='macro'),2)"
   ]
  },
  {
   "cell_type": "markdown",
   "metadata": {},
   "source": [
    "#### Decision Tree"
   ]
  },
  {
   "cell_type": "code",
   "execution_count": 26,
   "metadata": {},
   "outputs": [],
   "source": [
    "DT_Home = dict()\n",
    "dt_home = DecisionTreeClassifier(max_depth= 5, max_leaf_nodes= 50, min_samples_leaf= 5, min_samples_split= 2)\n",
    "dt_home.fit(x_home_train,y_home_train)\n",
    "res_predict = dt_home.predict(x_home_test)\n",
    "train_predict = dt_home.predict(x_home_train)\n",
    "DT_Home['Train Accuracy'] = round(np.mean(cross_val_score(dt_home,x_home_train,y_home_train,cv=k_fold,scoring=\"accuracy\")),2)\n",
    "DT_Home['Test Accuracy'] = round(accuracy_score(y_home_test,res_predict),2)\n",
    "DT_Home['Train Precision'] = round(precision_score(y_home_train,train_predict,average='macro'),2)\n",
    "DT_Home['Test Precision'] = round(precision_score(y_home_test,res_predict,average='macro'),2)\n",
    "DT_Home['Train F1-Score'] = round(f1_score(y_home_train,train_predict,average='macro'),2)\n",
    "DT_Home['Test F1-Score'] = round(f1_score(y_home_test,res_predict,average='macro'),2)"
   ]
  },
  {
   "cell_type": "markdown",
   "metadata": {},
   "source": [
    "#### Random Forest"
   ]
  },
  {
   "cell_type": "code",
   "execution_count": 27,
   "metadata": {},
   "outputs": [],
   "source": [
    "RF_Home = dict()\n",
    "rf_home = RandomForestClassifier(n_estimators=100,max_depth= 7, max_leaf_nodes=110, min_samples_leaf= 3, min_samples_split= 2, n_jobs=-1)\n",
    "rf_home.fit(x_home_train,y_home_train)\n",
    "res_predict = rf_home.predict(x_home_test)\n",
    "train_predict = rf_home.predict(x_home_train)\n",
    "RF_Home['Train Accuracy'] = round(np.mean(cross_val_score(rf_home,x_home_train,y_home_train,cv=k_fold,scoring=\"accuracy\")),2)\n",
    "RF_Home['Test Accuracy'] = round(accuracy_score(y_home_test,res_predict),2)\n",
    "RF_Home['Train Precision'] = round(precision_score(y_home_train,train_predict,average='macro'),2)\n",
    "RF_Home['Test Precision'] = round(precision_score(y_home_test,res_predict,average='macro'),2)\n",
    "RF_Home['Train F1-Score'] = round(f1_score(y_home_train,train_predict,average='macro'),2)\n",
    "RF_Home['Test F1-Score'] = round(f1_score(y_home_test,res_predict,average='macro'),2)"
   ]
  },
  {
   "cell_type": "markdown",
   "metadata": {},
   "source": [
    "#### XGBoost"
   ]
  },
  {
   "cell_type": "code",
   "execution_count": 28,
   "metadata": {},
   "outputs": [],
   "source": [
    "XGB_Home = dict()\n",
    "xgb_home = xgb.XGBClassifier(max_depth=6, n_estimators=150, learning_rate=0.01, n_jobs=-1)\n",
    "xgb_home.fit(x_home_train,y_home_train)\n",
    "res_predict = xgb_home.predict(x_home_test)\n",
    "train_predict = xgb_home.predict(x_home_train)\n",
    "XGB_Home['Train Accuracy'] = round(np.mean(cross_val_score(xgb_home,x_home_train,y_home_train,cv=k_fold,scoring=\"accuracy\")),2)\n",
    "XGB_Home['Test Accuracy'] = round(accuracy_score(y_home_test,res_predict),2)\n",
    "XGB_Home['Train Precision'] = round(precision_score(y_home_train,train_predict,average='macro'),2)\n",
    "XGB_Home['Test Precision'] = round(precision_score(y_home_test,res_predict,average='macro'),2)\n",
    "XGB_Home['Train F1-Score'] = round(f1_score(y_home_train,train_predict,average='macro'),2)\n",
    "XGB_Home['Test F1-Score'] = round(f1_score(y_home_test,res_predict,average='macro'),2)"
   ]
  },
  {
   "cell_type": "markdown",
   "metadata": {},
   "source": [
    "### 4.3 Model evaluation for classifiers used to predict goals for Home team"
   ]
  },
  {
   "cell_type": "code",
   "execution_count": 29,
   "metadata": {},
   "outputs": [
    {
     "data": {
      "text/html": [
       "<div>\n",
       "<style scoped>\n",
       "    .dataframe tbody tr th:only-of-type {\n",
       "        vertical-align: middle;\n",
       "    }\n",
       "\n",
       "    .dataframe tbody tr th {\n",
       "        vertical-align: top;\n",
       "    }\n",
       "\n",
       "    .dataframe thead th {\n",
       "        text-align: right;\n",
       "    }\n",
       "</style>\n",
       "<table border=\"1\" class=\"dataframe\">\n",
       "  <thead>\n",
       "    <tr style=\"text-align: right;\">\n",
       "      <th></th>\n",
       "      <th>Train Accuracy</th>\n",
       "      <th>Test Accuracy</th>\n",
       "      <th>Train Precision</th>\n",
       "      <th>Test Precision</th>\n",
       "      <th>Train F1-Score</th>\n",
       "      <th>Test F1-Score</th>\n",
       "    </tr>\n",
       "  </thead>\n",
       "  <tbody>\n",
       "    <tr>\n",
       "      <th>Logistic Regession</th>\n",
       "      <td>0.35</td>\n",
       "      <td>0.33</td>\n",
       "      <td>0.08</td>\n",
       "      <td>0.08</td>\n",
       "      <td>0.09</td>\n",
       "      <td>0.09</td>\n",
       "    </tr>\n",
       "    <tr>\n",
       "      <th>Support Vector Machine (RBF)</th>\n",
       "      <td>0.35</td>\n",
       "      <td>0.33</td>\n",
       "      <td>0.06</td>\n",
       "      <td>0.06</td>\n",
       "      <td>0.07</td>\n",
       "      <td>0.07</td>\n",
       "    </tr>\n",
       "    <tr>\n",
       "      <th>K-Nearest Neighbors</th>\n",
       "      <td>0.33</td>\n",
       "      <td>0.33</td>\n",
       "      <td>1.00</td>\n",
       "      <td>0.13</td>\n",
       "      <td>1.00</td>\n",
       "      <td>0.11</td>\n",
       "    </tr>\n",
       "    <tr>\n",
       "      <th>Decision Tree</th>\n",
       "      <td>0.35</td>\n",
       "      <td>0.34</td>\n",
       "      <td>0.15</td>\n",
       "      <td>0.11</td>\n",
       "      <td>0.11</td>\n",
       "      <td>0.10</td>\n",
       "    </tr>\n",
       "    <tr>\n",
       "      <th>Random Forest</th>\n",
       "      <td>0.37</td>\n",
       "      <td>0.34</td>\n",
       "      <td>0.22</td>\n",
       "      <td>0.10</td>\n",
       "      <td>0.14</td>\n",
       "      <td>0.09</td>\n",
       "    </tr>\n",
       "    <tr>\n",
       "      <th>XGBoost</th>\n",
       "      <td>0.35</td>\n",
       "      <td>0.35</td>\n",
       "      <td>0.40</td>\n",
       "      <td>0.12</td>\n",
       "      <td>0.23</td>\n",
       "      <td>0.11</td>\n",
       "    </tr>\n",
       "  </tbody>\n",
       "</table>\n",
       "</div>"
      ],
      "text/plain": [
       "                              Train Accuracy  Test Accuracy  Train Precision  \\\n",
       "Logistic Regession                      0.35           0.33             0.08   \n",
       "Support Vector Machine (RBF)            0.35           0.33             0.06   \n",
       "K-Nearest Neighbors                     0.33           0.33             1.00   \n",
       "Decision Tree                           0.35           0.34             0.15   \n",
       "Random Forest                           0.37           0.34             0.22   \n",
       "XGBoost                                 0.35           0.35             0.40   \n",
       "\n",
       "                              Test Precision  Train F1-Score  Test F1-Score  \n",
       "Logistic Regession                      0.08            0.09           0.09  \n",
       "Support Vector Machine (RBF)            0.06            0.07           0.07  \n",
       "K-Nearest Neighbors                     0.13            1.00           0.11  \n",
       "Decision Tree                           0.11            0.11           0.10  \n",
       "Random Forest                           0.10            0.14           0.09  \n",
       "XGBoost                                 0.12            0.23           0.11  "
      ]
     },
     "execution_count": 29,
     "metadata": {},
     "output_type": "execute_result"
    }
   ],
   "source": [
    "clfResultsHome = pd.DataFrame.from_records([Logistic_Reg_Home,SVM_Home,KNN_Home,DT_Home,RF_Home,XGB_Home],index=['Logistic Regession','Support Vector Machine (RBF)','K-Nearest Neighbors','Decision Tree','Random Forest','XGBoost'])\n",
    "col = clfResultsHome.columns.tolist()\n",
    "col = [col[i] for i in [3,0,5,2,4,1]]\n",
    "clfResultsHome = clfResultsHome[col]\n",
    "clfResultsHome"
   ]
  },
  {
   "cell_type": "markdown",
   "metadata": {},
   "source": [
    "__K-Nearest Neighbors__ has the highest F1-Score, but the difference between Training and Test F1-Score is very large, which makes it overfitted."
   ]
  },
  {
   "cell_type": "markdown",
   "metadata": {},
   "source": [
    "### 4.4 Predicting goals scored by Away team"
   ]
  },
  {
   "cell_type": "markdown",
   "metadata": {},
   "source": [
    "#### Logistic Regression"
   ]
  },
  {
   "cell_type": "code",
   "execution_count": 30,
   "metadata": {},
   "outputs": [],
   "source": [
    "Logistic_Reg_Away = dict()\n",
    "lr_away = LogisticRegression(C=0.001, n_jobs=-1)\n",
    "lr_away.fit(x_away_train,y_away_train)\n",
    "res_predict = lr_away.predict(x_away_test)\n",
    "train_predict = lr_away.predict(x_away_train)\n",
    "Logistic_Reg_Away['Train Accuracy'] = round(np.mean(cross_val_score(lr_away,x_away_train,y_away_train,cv=k_fold,scoring=\"accuracy\")),2)\n",
    "Logistic_Reg_Away['Test Accuracy'] = round(accuracy_score(y_away_test,res_predict),2)\n",
    "Logistic_Reg_Away['Train Precision'] = round(precision_score(y_away_train,train_predict,average='macro'),2)\n",
    "Logistic_Reg_Away['Test Precision'] = round(precision_score(y_away_test,res_predict,average='macro'),2)\n",
    "Logistic_Reg_Away['Train F1-Score'] = round(f1_score(y_away_train,train_predict,average='macro'),2)\n",
    "Logistic_Reg_Away['Test F1-Score'] = round(f1_score(y_away_test,res_predict,average='macro'),2)"
   ]
  },
  {
   "cell_type": "markdown",
   "metadata": {},
   "source": [
    "#### Support Vector Machine (RBF Kernel)"
   ]
  },
  {
   "cell_type": "code",
   "execution_count": 31,
   "metadata": {},
   "outputs": [],
   "source": [
    "SVM_Away = dict()\n",
    "svm_away = SVC(kernel='rbf', gamma=0.001, C=2, probability=True)\n",
    "svm_away.fit(x_away_train,y_away_train)\n",
    "res_predict = svm_away.predict(x_away_test)\n",
    "train_predict = svm_away.predict(x_away_train)\n",
    "SVM_Away['Train Accuracy'] = round(np.mean(cross_val_score(svm_away,x_away_train,y_away_train,cv=k_fold,scoring=\"accuracy\")),2)\n",
    "SVM_Away['Test Accuracy'] = round(accuracy_score(y_away_test,res_predict),2)\n",
    "SVM_Away['Train Precision'] = round(precision_score(y_away_train,train_predict,average='macro'),2)\n",
    "SVM_Away['Test Precision'] = round(precision_score(y_away_test,res_predict,average='macro'),2)\n",
    "SVM_Away['Train F1-Score'] = round(f1_score(y_away_train,train_predict,average='macro'),2)\n",
    "SVM_Away['Test F1-Score'] = round(f1_score(y_away_test,res_predict,average='macro'),2)"
   ]
  },
  {
   "cell_type": "markdown",
   "metadata": {},
   "source": [
    "#### K-Nearest Neighbors"
   ]
  },
  {
   "cell_type": "code",
   "execution_count": 32,
   "metadata": {},
   "outputs": [],
   "source": [
    "KNN_Away = dict()\n",
    "knn_away = KNeighborsClassifier(n_neighbors=10, p=2, weights='distance', n_jobs=-1)\n",
    "knn_away.fit(x_away_train,y_away_train)\n",
    "res_predict = knn_away.predict(x_away_test)\n",
    "train_predict = knn_away.predict(x_away_train)\n",
    "KNN_Away['Train Accuracy'] = round(np.mean(cross_val_score(knn_away,x_away_train,y_away_train,cv=k_fold,scoring=\"accuracy\")),2)\n",
    "KNN_Away['Test Accuracy'] = round(accuracy_score(y_away_test,res_predict),2)\n",
    "KNN_Away['Train Precision'] = round(precision_score(y_away_train,train_predict,average='macro'),2)\n",
    "KNN_Away['Test Precision'] = round(precision_score(y_away_test,res_predict,average='macro'),2)\n",
    "KNN_Away['Train F1-Score'] = round(f1_score(y_away_train,train_predict,average='macro'),2)\n",
    "KNN_Away['Test F1-Score'] = round(f1_score(y_away_test,res_predict,average='macro'),2)"
   ]
  },
  {
   "cell_type": "markdown",
   "metadata": {},
   "source": [
    "#### Decision Tree"
   ]
  },
  {
   "cell_type": "code",
   "execution_count": 33,
   "metadata": {},
   "outputs": [],
   "source": [
    "DT_Away = dict()\n",
    "dt_away = DecisionTreeClassifier(max_depth= 6, max_leaf_nodes= 90, min_samples_leaf= 6, min_samples_split= 2)\n",
    "dt_away.fit(x_away_train,y_away_train)\n",
    "res_predict = dt_away.predict(x_away_test)\n",
    "train_predict = dt_away.predict(x_away_train)\n",
    "DT_Away['Train Accuracy'] = round(np.mean(cross_val_score(dt_away,x_away_train,y_away_train,cv=k_fold,scoring=\"accuracy\")),2)\n",
    "DT_Away['Test Accuracy'] = round(accuracy_score(y_away_test,res_predict),2)\n",
    "DT_Away['Train Precision'] = round(precision_score(y_away_train,train_predict,average='macro'),2)\n",
    "DT_Away['Test Precision'] = round(precision_score(y_away_test,res_predict,average='macro'),2)\n",
    "DT_Away['Train F1-Score'] = round(f1_score(y_away_train,train_predict,average='macro'),2)\n",
    "DT_Away['Test F1-Score'] = round(f1_score(y_away_test,res_predict,average='macro'),2)"
   ]
  },
  {
   "cell_type": "markdown",
   "metadata": {},
   "source": [
    "#### Random Forest"
   ]
  },
  {
   "cell_type": "code",
   "execution_count": 34,
   "metadata": {},
   "outputs": [],
   "source": [
    "RF_Away = dict()\n",
    "rf_away = RandomForestClassifier(n_estimators=100,max_depth= 7, max_leaf_nodes=90, min_samples_leaf= 4, min_samples_split= 2, n_jobs=-1)\n",
    "rf_away.fit(x_away_train,y_away_train)\n",
    "res_predict = rf_away.predict(x_away_test)\n",
    "train_predict = rf_away.predict(x_away_train)\n",
    "RF_Away['Train Accuracy'] = round(np.mean(cross_val_score(rf_away,x_away_train,y_away_train,cv=k_fold,scoring=\"accuracy\")),2)\n",
    "RF_Away['Test Accuracy'] = round(accuracy_score(y_away_test,res_predict),2)\n",
    "RF_Away['Train Precision'] = round(precision_score(y_away_train,train_predict,average='macro'),2)\n",
    "RF_Away['Test Precision'] = round(precision_score(y_away_test,res_predict,average='macro'),2)\n",
    "RF_Away['Train F1-Score'] = round(f1_score(y_away_train,train_predict,average='macro'),2)\n",
    "RF_Away['Test F1-Score'] = round(f1_score(y_away_test,res_predict,average='macro'),2)"
   ]
  },
  {
   "cell_type": "markdown",
   "metadata": {},
   "source": [
    "#### XGBoost"
   ]
  },
  {
   "cell_type": "code",
   "execution_count": 35,
   "metadata": {},
   "outputs": [],
   "source": [
    "XGB_Away = dict()\n",
    "xgb_away = xgb.XGBClassifier(max_depth=6, n_estimators=100, learning_rate=0.01, n_jobs=-1)\n",
    "xgb_away.fit(x_away_train,y_away_train)\n",
    "res_predict = xgb_away.predict(x_away_test)\n",
    "train_predict = xgb_away.predict(x_away_train)\n",
    "XGB_Away['Train Accuracy'] = round(np.mean(cross_val_score(xgb_away,x_away_train,y_away_train,cv=k_fold,scoring=\"accuracy\")),2)\n",
    "XGB_Away['Test Accuracy'] = round(accuracy_score(y_away_test,res_predict),2)\n",
    "XGB_Away['Train Precision'] = round(precision_score(y_away_train,train_predict,average='macro'),2)\n",
    "XGB_Away['Test Precision'] = round(precision_score(y_away_test,res_predict,average='macro'),2)\n",
    "XGB_Away['Train F1-Score'] = round(f1_score(y_away_train,train_predict,average='macro'),2)\n",
    "XGB_Away['Test F1-Score'] = round(f1_score(y_away_test,res_predict,average='macro'),2)"
   ]
  },
  {
   "cell_type": "markdown",
   "metadata": {},
   "source": [
    "### 4.3 Model evaluation for classifiers used to predict goals for Away team"
   ]
  },
  {
   "cell_type": "code",
   "execution_count": 36,
   "metadata": {},
   "outputs": [
    {
     "data": {
      "text/html": [
       "<div>\n",
       "<style scoped>\n",
       "    .dataframe tbody tr th:only-of-type {\n",
       "        vertical-align: middle;\n",
       "    }\n",
       "\n",
       "    .dataframe tbody tr th {\n",
       "        vertical-align: top;\n",
       "    }\n",
       "\n",
       "    .dataframe thead th {\n",
       "        text-align: right;\n",
       "    }\n",
       "</style>\n",
       "<table border=\"1\" class=\"dataframe\">\n",
       "  <thead>\n",
       "    <tr style=\"text-align: right;\">\n",
       "      <th></th>\n",
       "      <th>Train Accuracy</th>\n",
       "      <th>Test Accuracy</th>\n",
       "      <th>Train Precision</th>\n",
       "      <th>Test Precision</th>\n",
       "      <th>Train F1-Score</th>\n",
       "      <th>Test F1-Score</th>\n",
       "    </tr>\n",
       "  </thead>\n",
       "  <tbody>\n",
       "    <tr>\n",
       "      <th>Logistic Regession</th>\n",
       "      <td>0.43</td>\n",
       "      <td>0.45</td>\n",
       "      <td>0.10</td>\n",
       "      <td>0.15</td>\n",
       "      <td>0.09</td>\n",
       "      <td>0.14</td>\n",
       "    </tr>\n",
       "    <tr>\n",
       "      <th>Support Vector Machine (RBF)</th>\n",
       "      <td>0.41</td>\n",
       "      <td>0.42</td>\n",
       "      <td>0.05</td>\n",
       "      <td>0.05</td>\n",
       "      <td>0.05</td>\n",
       "      <td>0.07</td>\n",
       "    </tr>\n",
       "    <tr>\n",
       "      <th>K-Nearest Neighbors</th>\n",
       "      <td>0.39</td>\n",
       "      <td>0.41</td>\n",
       "      <td>1.00</td>\n",
       "      <td>0.13</td>\n",
       "      <td>1.00</td>\n",
       "      <td>0.13</td>\n",
       "    </tr>\n",
       "    <tr>\n",
       "      <th>Decision Tree</th>\n",
       "      <td>0.41</td>\n",
       "      <td>0.44</td>\n",
       "      <td>0.26</td>\n",
       "      <td>0.15</td>\n",
       "      <td>0.17</td>\n",
       "      <td>0.14</td>\n",
       "    </tr>\n",
       "    <tr>\n",
       "      <th>Random Forest</th>\n",
       "      <td>0.42</td>\n",
       "      <td>0.44</td>\n",
       "      <td>0.39</td>\n",
       "      <td>0.22</td>\n",
       "      <td>0.17</td>\n",
       "      <td>0.14</td>\n",
       "    </tr>\n",
       "    <tr>\n",
       "      <th>XGBoost</th>\n",
       "      <td>0.42</td>\n",
       "      <td>0.45</td>\n",
       "      <td>0.60</td>\n",
       "      <td>0.19</td>\n",
       "      <td>0.32</td>\n",
       "      <td>0.14</td>\n",
       "    </tr>\n",
       "  </tbody>\n",
       "</table>\n",
       "</div>"
      ],
      "text/plain": [
       "                              Train Accuracy  Test Accuracy  Train Precision  \\\n",
       "Logistic Regession                      0.43           0.45             0.10   \n",
       "Support Vector Machine (RBF)            0.41           0.42             0.05   \n",
       "K-Nearest Neighbors                     0.39           0.41             1.00   \n",
       "Decision Tree                           0.41           0.44             0.26   \n",
       "Random Forest                           0.42           0.44             0.39   \n",
       "XGBoost                                 0.42           0.45             0.60   \n",
       "\n",
       "                              Test Precision  Train F1-Score  Test F1-Score  \n",
       "Logistic Regession                      0.15            0.09           0.14  \n",
       "Support Vector Machine (RBF)            0.05            0.05           0.07  \n",
       "K-Nearest Neighbors                     0.13            1.00           0.13  \n",
       "Decision Tree                           0.15            0.17           0.14  \n",
       "Random Forest                           0.22            0.17           0.14  \n",
       "XGBoost                                 0.19            0.32           0.14  "
      ]
     },
     "execution_count": 36,
     "metadata": {},
     "output_type": "execute_result"
    }
   ],
   "source": [
    "clfResultsAway = pd.DataFrame.from_records([Logistic_Reg_Away,SVM_Away,KNN_Away,DT_Away,RF_Away,XGB_Away],index=['Logistic Regession','Support Vector Machine (RBF)','K-Nearest Neighbors','Decision Tree','Random Forest','XGBoost'])\n",
    "col = clfResultsAway.columns.tolist()\n",
    "col = [col[i] for i in [3,0,5,2,4,1]]\n",
    "clfResultsAway = clfResultsAway[col]\n",
    "clfResultsAway"
   ]
  },
  {
   "cell_type": "markdown",
   "metadata": {},
   "source": [
    "__Random Forest Classifier__ has the highest value for all the 3 metrics, hence we will use Random Forest Classifier to predict goals scored by Away Team."
   ]
  },
  {
   "cell_type": "markdown",
   "metadata": {},
   "source": [
    "## 5. Current Ability and Potential of Teams"
   ]
  },
  {
   "cell_type": "markdown",
   "metadata": {},
   "source": [
    "We will use the current __Overall__ and __Potential__ ratings for each player in the squad of each team. \n",
    "\n",
    "Each team has a squad of 23 players.\n",
    "\n",
    "We take the ratings of each player from __FIFA 19__ and __PES 19__ dataset to calculate the current Ability and Potential of each team."
   ]
  },
  {
   "cell_type": "code",
   "execution_count": 37,
   "metadata": {},
   "outputs": [
    {
     "data": {
      "text/html": [
       "<div>\n",
       "<style scoped>\n",
       "    .dataframe tbody tr th:only-of-type {\n",
       "        vertical-align: middle;\n",
       "    }\n",
       "\n",
       "    .dataframe tbody tr th {\n",
       "        vertical-align: top;\n",
       "    }\n",
       "\n",
       "    .dataframe thead th {\n",
       "        text-align: right;\n",
       "    }\n",
       "</style>\n",
       "<table border=\"1\" class=\"dataframe\">\n",
       "  <thead>\n",
       "    <tr style=\"text-align: right;\">\n",
       "      <th></th>\n",
       "      <th>Name</th>\n",
       "      <th>Full Name</th>\n",
       "      <th>Age</th>\n",
       "      <th>Height</th>\n",
       "      <th>Nationality</th>\n",
       "      <th>Overall</th>\n",
       "      <th>Potential</th>\n",
       "      <th>First Name</th>\n",
       "      <th>Last Name</th>\n",
       "    </tr>\n",
       "  </thead>\n",
       "  <tbody>\n",
       "    <tr>\n",
       "      <th>0</th>\n",
       "      <td>L. Messi</td>\n",
       "      <td>Lionel Messi</td>\n",
       "      <td>31</td>\n",
       "      <td>170.0</td>\n",
       "      <td>Argentina</td>\n",
       "      <td>94</td>\n",
       "      <td>94</td>\n",
       "      <td>Lionel</td>\n",
       "      <td>Messi</td>\n",
       "    </tr>\n",
       "    <tr>\n",
       "      <th>1</th>\n",
       "      <td>Neymar Jr</td>\n",
       "      <td>Neymar Jr</td>\n",
       "      <td>26</td>\n",
       "      <td>175.0</td>\n",
       "      <td>Brazil</td>\n",
       "      <td>92</td>\n",
       "      <td>93</td>\n",
       "      <td>Neymar</td>\n",
       "      <td>Jr</td>\n",
       "    </tr>\n",
       "    <tr>\n",
       "      <th>2</th>\n",
       "      <td>L. Suárez</td>\n",
       "      <td>Luis Suárez</td>\n",
       "      <td>31</td>\n",
       "      <td>183.0</td>\n",
       "      <td>Uruguay</td>\n",
       "      <td>91</td>\n",
       "      <td>91</td>\n",
       "      <td>Luis</td>\n",
       "      <td>Suárez</td>\n",
       "    </tr>\n",
       "    <tr>\n",
       "      <th>3</th>\n",
       "      <td>D. Godín</td>\n",
       "      <td>Diego Godín</td>\n",
       "      <td>32</td>\n",
       "      <td>188.0</td>\n",
       "      <td>Uruguay</td>\n",
       "      <td>90</td>\n",
       "      <td>90</td>\n",
       "      <td>Diego</td>\n",
       "      <td>Godín</td>\n",
       "    </tr>\n",
       "    <tr>\n",
       "      <th>4</th>\n",
       "      <td>P. Dybala</td>\n",
       "      <td>Paulo Dybala</td>\n",
       "      <td>24</td>\n",
       "      <td>178.0</td>\n",
       "      <td>Argentina</td>\n",
       "      <td>89</td>\n",
       "      <td>94</td>\n",
       "      <td>Paulo</td>\n",
       "      <td>Dybala</td>\n",
       "    </tr>\n",
       "  </tbody>\n",
       "</table>\n",
       "</div>"
      ],
      "text/plain": [
       "        Name     Full Name  Age  Height Nationality  Overall  Potential  \\\n",
       "0   L. Messi  Lionel Messi   31   170.0   Argentina       94         94   \n",
       "1  Neymar Jr     Neymar Jr   26   175.0      Brazil       92         93   \n",
       "2  L. Suárez   Luis Suárez   31   183.0     Uruguay       91         91   \n",
       "3   D. Godín   Diego Godín   32   188.0     Uruguay       90         90   \n",
       "4  P. Dybala  Paulo Dybala   24   178.0   Argentina       89         94   \n",
       "\n",
       "  First Name Last Name  \n",
       "0     Lionel     Messi  \n",
       "1     Neymar        Jr  \n",
       "2       Luis    Suárez  \n",
       "3      Diego     Godín  \n",
       "4      Paulo    Dybala  "
      ]
     },
     "execution_count": 37,
     "metadata": {},
     "output_type": "execute_result"
    }
   ],
   "source": [
    "teams = squads.team.unique().tolist()\n",
    "fifa19 = fifa19[fifa19.Nationality.isin(teams)].reset_index(drop=True)\n",
    "fifa19_stats = fifa19[fifa19.Nationality.isin(squads.team) & (fifa19['Full Name'].isin(squads['player']) |\n",
    "        fifa19['Name'].isin(squads['player']) | fifa19['First Name'].isin(squads['Last Name']) )]\n",
    "fifa19_stats.reset_index(inplace=True,drop=True)\n",
    "fifa19_stats = fifa19_stats.groupby('Nationality').apply(lambda x: (x.sort_values('Overall',ascending=False)).head(23)).reset_index(drop=True)\n",
    "fifa19.head()"
   ]
  },
  {
   "cell_type": "code",
   "execution_count": 38,
   "metadata": {},
   "outputs": [],
   "source": [
    "for team in teams:\n",
    "    count = fifa19_stats[fifa19_stats.Nationality==team]['Full Name'].count()\n",
    "    if count >= 23:\n",
    "        continue\n",
    "    squadUpdate = fifa19[(fifa19.Nationality==team) & ( ~fifa19['Full Name'].isin(fifa19_stats['Full Name']) )].sort_values('Overall',ascending=False).head(23-count)\n",
    "    fifa19_stats = pd.concat([fifa19_stats,squadUpdate]).drop_duplicates().reset_index(drop=True)"
   ]
  },
  {
   "cell_type": "code",
   "execution_count": 39,
   "metadata": {},
   "outputs": [
    {
     "data": {
      "text/html": [
       "<div>\n",
       "<style scoped>\n",
       "    .dataframe tbody tr th:only-of-type {\n",
       "        vertical-align: middle;\n",
       "    }\n",
       "\n",
       "    .dataframe tbody tr th {\n",
       "        vertical-align: top;\n",
       "    }\n",
       "\n",
       "    .dataframe thead th {\n",
       "        text-align: right;\n",
       "    }\n",
       "</style>\n",
       "<table border=\"1\" class=\"dataframe\">\n",
       "  <thead>\n",
       "    <tr style=\"text-align: right;\">\n",
       "      <th></th>\n",
       "      <th>Age</th>\n",
       "      <th>Height</th>\n",
       "      <th>Overall</th>\n",
       "      <th>Potential</th>\n",
       "      <th>Points to potential</th>\n",
       "    </tr>\n",
       "    <tr>\n",
       "      <th>Nationality</th>\n",
       "      <th></th>\n",
       "      <th></th>\n",
       "      <th></th>\n",
       "      <th></th>\n",
       "      <th></th>\n",
       "    </tr>\n",
       "  </thead>\n",
       "  <tbody>\n",
       "    <tr>\n",
       "      <th>Bolivia</th>\n",
       "      <td>26.48</td>\n",
       "      <td>176.83</td>\n",
       "      <td>67.09</td>\n",
       "      <td>70.22</td>\n",
       "      <td>3.13</td>\n",
       "    </tr>\n",
       "    <tr>\n",
       "      <th>Qatar</th>\n",
       "      <td>27.26</td>\n",
       "      <td>177.65</td>\n",
       "      <td>69.43</td>\n",
       "      <td>75.43</td>\n",
       "      <td>6.00</td>\n",
       "    </tr>\n",
       "    <tr>\n",
       "      <th>Japan</th>\n",
       "      <td>24.35</td>\n",
       "      <td>178.17</td>\n",
       "      <td>70.00</td>\n",
       "      <td>76.70</td>\n",
       "      <td>6.70</td>\n",
       "    </tr>\n",
       "  </tbody>\n",
       "</table>\n",
       "</div>"
      ],
      "text/plain": [
       "               Age  Height  Overall  Potential  Points to potential\n",
       "Nationality                                                        \n",
       "Bolivia      26.48  176.83    67.09      70.22                 3.13\n",
       "Qatar        27.26  177.65    69.43      75.43                 6.00\n",
       "Japan        24.35  178.17    70.00      76.70                 6.70"
      ]
     },
     "execution_count": 39,
     "metadata": {},
     "output_type": "execute_result"
    }
   ],
   "source": [
    "grp = fifa19_stats.groupby('Nationality').apply(lambda x: round((x.sort_values('Overall',ascending=False)).mean(),2)).sort_values('Potential')\n",
    "grp['Points to potential'] = grp['Potential'] - grp['Overall']\n",
    "grp = grp.sort_values(by = 'Overall')\n",
    "grp.head(3)"
   ]
  },
  {
   "cell_type": "code",
   "execution_count": 40,
   "metadata": {},
   "outputs": [
    {
     "data": {
      "image/png": "[encoded data removed]",
      "text/plain": [
       "<Figure size 720x720 with 1 Axes>"
      ]
     },
     "metadata": {
      "needs_background": "light"
     },
     "output_type": "display_data"
    }
   ],
   "source": [
    "current = grp['Overall']\n",
    "potential = grp['Points to potential']\n",
    "ind = np.arange(12)\n",
    "width = 0.5\n",
    "plt.figure(figsize=(10,10))\n",
    "p1 = plt.bar(ind,current,width)\n",
    "p2 = plt.bar(ind,potential,width,bottom=current)\n",
    "plt.ylabel('Ability')\n",
    "plt.xlabel('Current and Potential Ability for each country')\n",
    "plt.xticks(ind,(grp.index),rotation=90)\n",
    "plt.legend((p1[0],p2[0]),('Current','Potential'))\n",
    "plt.show()"
   ]
  },
  {
   "cell_type": "markdown",
   "metadata": {},
   "source": [
    "We can see that __Brazil__ has the highest current ability while __Japan__ is most under potential."
   ]
  },
  {
   "cell_type": "markdown",
   "metadata": {},
   "source": [
    "## 6. Variables to build Poisson Model"
   ]
  },
  {
   "cell_type": "markdown",
   "metadata": {},
   "source": [
    "- Soccer Power Index\n",
    "- Average Age\n",
    "- Average Height\n",
    "- Past Participation\n",
    "- Average goals scored per game\n",
    "- Average goals conceded per game\n",
    "- Potential\n",
    "- Current Ability"
   ]
  },
  {
   "cell_type": "code",
   "execution_count": 41,
   "metadata": {},
   "outputs": [
    {
     "data": {
      "text/html": [
       "<div>\n",
       "<style scoped>\n",
       "    .dataframe tbody tr th:only-of-type {\n",
       "        vertical-align: middle;\n",
       "    }\n",
       "\n",
       "    .dataframe tbody tr th {\n",
       "        vertical-align: top;\n",
       "    }\n",
       "\n",
       "    .dataframe thead th {\n",
       "        text-align: right;\n",
       "    }\n",
       "</style>\n",
       "<table border=\"1\" class=\"dataframe\">\n",
       "  <thead>\n",
       "    <tr style=\"text-align: right;\">\n",
       "      <th></th>\n",
       "      <th>Team</th>\n",
       "      <th>Group</th>\n",
       "      <th>First_match_Against</th>\n",
       "      <th>Second_match_Against</th>\n",
       "      <th>Third_match_Against</th>\n",
       "      <th>SPI</th>\n",
       "      <th>Age</th>\n",
       "      <th>Height</th>\n",
       "      <th>Overall</th>\n",
       "      <th>Potential</th>\n",
       "      <th>...</th>\n",
       "      <th>GP</th>\n",
       "      <th>W</th>\n",
       "      <th>D</th>\n",
       "      <th>L</th>\n",
       "      <th>GF</th>\n",
       "      <th>GA</th>\n",
       "      <th>Dif</th>\n",
       "      <th>Pts/GP</th>\n",
       "      <th>avg score</th>\n",
       "      <th>avg conceded</th>\n",
       "    </tr>\n",
       "  </thead>\n",
       "  <tbody>\n",
       "    <tr>\n",
       "      <th>0</th>\n",
       "      <td>Brazil</td>\n",
       "      <td>A</td>\n",
       "      <td>Bolivia</td>\n",
       "      <td>Venezuela</td>\n",
       "      <td>Peru</td>\n",
       "      <td>2.39</td>\n",
       "      <td>27.00</td>\n",
       "      <td>180.09</td>\n",
       "      <td>1.829519</td>\n",
       "      <td>1.835141</td>\n",
       "      <td>...</td>\n",
       "      <td>178.0</td>\n",
       "      <td>99.0</td>\n",
       "      <td>35.0</td>\n",
       "      <td>44.0</td>\n",
       "      <td>405.0</td>\n",
       "      <td>200.0</td>\n",
       "      <td>205.0</td>\n",
       "      <td>1.87</td>\n",
       "      <td>2.28</td>\n",
       "      <td>1.12</td>\n",
       "    </tr>\n",
       "    <tr>\n",
       "      <th>1</th>\n",
       "      <td>Bolivia</td>\n",
       "      <td>A</td>\n",
       "      <td>Brazil</td>\n",
       "      <td>Peru</td>\n",
       "      <td>Venezuela</td>\n",
       "      <td>0.17</td>\n",
       "      <td>26.48</td>\n",
       "      <td>176.83</td>\n",
       "      <td>-1.542981</td>\n",
       "      <td>-1.877166</td>\n",
       "      <td>...</td>\n",
       "      <td>112.0</td>\n",
       "      <td>20.0</td>\n",
       "      <td>26.0</td>\n",
       "      <td>66.0</td>\n",
       "      <td>104.0</td>\n",
       "      <td>279.0</td>\n",
       "      <td>-175.0</td>\n",
       "      <td>0.77</td>\n",
       "      <td>0.93</td>\n",
       "      <td>2.49</td>\n",
       "    </tr>\n",
       "    <tr>\n",
       "      <th>2</th>\n",
       "      <td>Venezuela</td>\n",
       "      <td>A</td>\n",
       "      <td>Peru</td>\n",
       "      <td>Brazil</td>\n",
       "      <td>Bolivia</td>\n",
       "      <td>0.73</td>\n",
       "      <td>24.61</td>\n",
       "      <td>179.22</td>\n",
       "      <td>-0.626206</td>\n",
       "      <td>-0.336821</td>\n",
       "      <td>...</td>\n",
       "      <td>62.0</td>\n",
       "      <td>7.0</td>\n",
       "      <td>13.0</td>\n",
       "      <td>42.0</td>\n",
       "      <td>47.0</td>\n",
       "      <td>171.0</td>\n",
       "      <td>-124.0</td>\n",
       "      <td>0.55</td>\n",
       "      <td>0.76</td>\n",
       "      <td>2.76</td>\n",
       "    </tr>\n",
       "    <tr>\n",
       "      <th>3</th>\n",
       "      <td>Peru</td>\n",
       "      <td>A</td>\n",
       "      <td>Venezuela</td>\n",
       "      <td>Bolivia</td>\n",
       "      <td>Brazil</td>\n",
       "      <td>1.25</td>\n",
       "      <td>26.57</td>\n",
       "      <td>177.35</td>\n",
       "      <td>-0.415150</td>\n",
       "      <td>-0.771213</td>\n",
       "      <td>...</td>\n",
       "      <td>148.0</td>\n",
       "      <td>54.0</td>\n",
       "      <td>35.0</td>\n",
       "      <td>59.0</td>\n",
       "      <td>213.0</td>\n",
       "      <td>232.0</td>\n",
       "      <td>-19.0</td>\n",
       "      <td>1.33</td>\n",
       "      <td>1.44</td>\n",
       "      <td>1.57</td>\n",
       "    </tr>\n",
       "    <tr>\n",
       "      <th>4</th>\n",
       "      <td>Argentina</td>\n",
       "      <td>B</td>\n",
       "      <td>Colombia</td>\n",
       "      <td>Paraguay</td>\n",
       "      <td>Qatar</td>\n",
       "      <td>1.59</td>\n",
       "      <td>26.70</td>\n",
       "      <td>180.30</td>\n",
       "      <td>1.332658</td>\n",
       "      <td>1.193539</td>\n",
       "      <td>...</td>\n",
       "      <td>189.0</td>\n",
       "      <td>120.0</td>\n",
       "      <td>38.0</td>\n",
       "      <td>31.0</td>\n",
       "      <td>455.0</td>\n",
       "      <td>173.0</td>\n",
       "      <td>282.0</td>\n",
       "      <td>2.11</td>\n",
       "      <td>2.41</td>\n",
       "      <td>0.92</td>\n",
       "    </tr>\n",
       "  </tbody>\n",
       "</table>\n",
       "<p>5 rows × 24 columns</p>\n",
       "</div>"
      ],
      "text/plain": [
       "        Team Group First_match_Against Second_match_Against  \\\n",
       "0     Brazil     A             Bolivia            Venezuela   \n",
       "1    Bolivia     A              Brazil                 Peru   \n",
       "2  Venezuela     A                Peru               Brazil   \n",
       "3       Peru     A           Venezuela              Bolivia   \n",
       "4  Argentina     B            Colombia             Paraguay   \n",
       "\n",
       "  Third_match_Against   SPI    Age  Height   Overall  Potential      ...       \\\n",
       "0                Peru  2.39  27.00  180.09  1.829519   1.835141      ...        \n",
       "1           Venezuela  0.17  26.48  176.83 -1.542981  -1.877166      ...        \n",
       "2             Bolivia  0.73  24.61  179.22 -0.626206  -0.336821      ...        \n",
       "3              Brazil  1.25  26.57  177.35 -0.415150  -0.771213      ...        \n",
       "4               Qatar  1.59  26.70  180.30  1.332658   1.193539      ...        \n",
       "\n",
       "      GP      W     D     L     GF     GA    Dif  Pts/GP  avg score  \\\n",
       "0  178.0   99.0  35.0  44.0  405.0  200.0  205.0    1.87       2.28   \n",
       "1  112.0   20.0  26.0  66.0  104.0  279.0 -175.0    0.77       0.93   \n",
       "2   62.0    7.0  13.0  42.0   47.0  171.0 -124.0    0.55       0.76   \n",
       "3  148.0   54.0  35.0  59.0  213.0  232.0  -19.0    1.33       1.44   \n",
       "4  189.0  120.0  38.0  31.0  455.0  173.0  282.0    2.11       2.41   \n",
       "\n",
       "   avg conceded  \n",
       "0          1.12  \n",
       "1          2.49  \n",
       "2          2.76  \n",
       "3          1.57  \n",
       "4          0.92  \n",
       "\n",
       "[5 rows x 24 columns]"
      ]
     },
     "execution_count": 41,
     "metadata": {},
     "output_type": "execute_result"
    }
   ],
   "source": [
    "grp.reset_index(inplace=True)\n",
    "spi=pd.merge(left=df,right=grp,how='left',left_on=['Name'],right_on=['Nationality']).dropna().drop(['Nationality'],axis=1)\n",
    "spi=pd.merge(left=spi,right=history,how='left',left_on=['Name'],right_on=['Team']).drop(['Team'],axis=1)\n",
    "fixtures=pd.merge(left=fixtures,right=spi,how='left',left_on=['Team'],right_on=['Name']).drop(['Name'],axis=1).fillna(0)\n",
    "fixtures[\"avg score\"] = round(fixtures['GF'] / fixtures['GP'],2)\n",
    "fixtures[\"avg conceded\"] = round(fixtures['GA'] / fixtures['GP'],2)\n",
    "fixtures.iloc[0:,[5,6,7,9,-2,-1]].fillna(0,inplace=True)\n",
    "sc=StandardScaler()\n",
    "fixtures[['Part.','Overall','Potential']]=sc.fit_transform(fixtures[['Part.','Overall','Potential']])\n",
    "fixtures.head()"
   ]
  },
  {
   "cell_type": "markdown",
   "metadata": {},
   "source": [
    "## 7. Predicting Copa America 2019"
   ]
  },
  {
   "cell_type": "markdown",
   "metadata": {},
   "source": [
    "### Combination of Poisson Distribution and Random Forest to Predict Goals Scored"
   ]
  },
  {
   "cell_type": "markdown",
   "metadata": {},
   "source": [
    " - __Base Goals__ = Average goals scored by X against Y = min(Ave_goals_scored_per_game (X), Ave_goals_conceded_per_game(Y))\n",
    " - __Difference in Teams__ =  0.35*(diff. in Soccer_Power_index) + 0.20*(diff. in Potential) + 0.20*(diff. in total_participation) + 0.05 (diff. in Average_height) - 0.05 * (diff. in Average_age) + 0.15*(diff. in current overall ability)\n",
    " \n",
    "The current ability plays an important role as to how much the teams differ in quality.\n",
    "\n",
    "The potential of the players and the experience (total_participation) would also play a important role in a match, especially in a semi-final/final.\n",
    "\n",
    "Least weights were given to the height (Headers advantage) and age (might be correlated with their stamina) as they might play a small part in some parts of the match. Age difference was \"subtracted\" because the younger the player is, there is a higher change of having more stamina, hence lower age is \"better\".\n",
    "\n",
    " - __Mean Goals Scored__ = max(0, Base Goals + Difference in Teams)\n",
    "\n",
    "Now to calculate probability of goals scored, we will combine Poisson Distribution and Random Forest Classifier as,\n",
    "Probability(i Goals Scored) = 0.7*(poisson.pmf(i, Mean Goals Scored)) + 0.3*(Random Forest Probability of i Goals)\n",
    "\n",
    "Eg. P(0 goals) = 0.7*(poisson.pmf(0, Mean Goals Scored)) + 0.3*(Random Forest Probability of 0 Goals)\n",
    "\n",
    "We then calculate the probability for 0,1,2,3,4,5,6 Goals using above equation.\n",
    "\n",
    "Predicted no. of goals will be the one with highest probability."
   ]
  },
  {
   "cell_type": "markdown",
   "metadata": {},
   "source": [
    "#### Training the selected classifier(s) for Group Matches"
   ]
  },
  {
   "cell_type": "code",
   "execution_count": 42,
   "metadata": {},
   "outputs": [],
   "source": [
    "features = result.loc[0:,['host','impt','home_pts_diff','away_pts_diff','rank_diff','weighted_diff']]\n",
    "labels = result.loc[:,['results']]\n",
    "rf_class = RandomForestClassifier(n_estimators=250,max_depth= 8, max_leaf_nodes=100, min_samples_leaf= 5, min_samples_split= 5, n_jobs=-1)\n",
    "rf_class.fit(features,labels)\n",
    "\n",
    "from itertools import combinations\n",
    "opponents = ['First match \\nagainst', 'Second match\\n against', 'Third match\\n against']\n",
    "fixtures['Points'] = 0\n",
    "fixtures['Total_Prob'] = 0\n",
    "fixtures.set_index('Team',inplace=True)\n",
    "current_ranking.set_index('country_full',inplace=True)"
   ]
  },
  {
   "cell_type": "markdown",
   "metadata": {},
   "source": [
    "#### Group Stage"
   ]
  },
  {
   "cell_type": "code",
   "execution_count": 43,
   "metadata": {
    "scrolled": false
   },
   "outputs": [
    {
     "name": "stdout",
     "output_type": "stream",
     "text": [
      "___Group A___\n",
      "Brazil vs. Bolivia: Brazil wins with a probability of 0.83%\n",
      "Brazil vs. Venezuela: Brazil wins with a probability of 0.70%\n",
      "Brazil vs. Peru: Brazil wins with a probability of 0.71%\n",
      "Bolivia vs. Venezuela: Venezuela wins with a probability of 0.40% \n",
      "Bolivia vs. Peru: Peru wins with a probability of 0.60% \n",
      "Venezuela vs. Peru: Peru wins with a probability of 0.57% \n",
      "\n",
      "___Group B___\n",
      "Argentina vs. Colombia: Argentina wins with a probability of 0.52%\n",
      "Argentina vs. Paraguay: Argentina wins with a probability of 0.61%\n",
      "Argentina vs. Qatar: Argentina wins with a probability of 0.70%\n",
      "Colombia vs. Paraguay: Colombia wins with a probability of 0.67%\n",
      "Colombia vs. Qatar: Colombia wins with a probability of 0.73%\n",
      "Paraguay vs. Qatar: Paraguay wins with a probability of 0.64%\n",
      "\n",
      "___Group C___\n",
      "Uruguay vs. Ecuador: Uruguay wins with a probability of 0.68%\n",
      "Uruguay vs. Japan: Uruguay wins with a probability of 0.58%\n",
      "Uruguay vs. Chile: Uruguay wins with a probability of 0.36%\n",
      "Ecuador vs. Japan: Japan wins with a probability of 0.39% \n",
      "Ecuador vs. Chile: Chile wins with a probability of 0.60% \n",
      "Japan vs. Chile: Chile wins with a probability of 0.55% \n",
      "\n"
     ]
    }
   ],
   "source": [
    "for group in list(fixtures['Group'].unique()):\n",
    "    print('___Group {}___'.format(group))\n",
    "    for home, away in combinations(fixtures.query('Group == \"{}\"'.format(group)).index, 2):\n",
    "        print('{} vs. {}: '.format(home, away), end='')\n",
    "        match = pd.DataFrame(np.array([[np.nan, np.nan, np.nan, np.nan, np.nan, np.nan]]), columns=['host','impt','home_pts_diff','away_pts_diff','rank_diff','weighted_diff'])\n",
    "        match['host'] = 1 if home=='Brazil' or away=='Brazil' else 0\n",
    "        match['impt'] = 1\n",
    "        match['home_pts_diff'] = current_ranking.loc[home,'pts_diff']\n",
    "        match['away_pts_diff'] = current_ranking.loc[away,'pts_diff']\n",
    "        match['rank_diff'] = current_ranking.loc[home,'rank'] - current_ranking.loc[away,'rank']\n",
    "        match['weighted_diff'] = current_ranking.loc[home,'mean_weighted'] - current_ranking.loc[away,'mean_weighted']\n",
    "        \n",
    "        home_win_prob = rf_class.predict_proba(match)[:,2][0]\n",
    "        away_win_prob = rf_class.predict_proba(match)[:,0][0]\n",
    "        draw_prob = rf_class.predict_proba(match)[:,1][0]\n",
    "        \n",
    "        points = 0\n",
    "        if max(home_win_prob,away_win_prob,draw_prob) == away_win_prob:\n",
    "            print(\"{} wins with a probability of {:.2f}% \".format(away, away_win_prob))\n",
    "            fixtures.loc[away, 'Points'] += 3\n",
    "            fixtures.loc[home, 'Total_Prob'] += home_win_prob\n",
    "            fixtures.loc[away, 'Total_Prob'] += away_win_prob\n",
    "        elif max(home_win_prob,away_win_prob,draw_prob) == draw_prob:\n",
    "            points = 1\n",
    "            print(\"Draw with probability of {:.2f}%\".format(draw_prob))\n",
    "            fixtures.loc[home, 'Points'] += 1\n",
    "            fixtures.loc[away, 'Points'] += 1\n",
    "            fixtures.loc[home, 'Total_Prob'] += draw_prob\n",
    "            fixtures.loc[away, 'Total_Prob'] += draw_prob\n",
    "        elif max(home_win_prob,away_win_prob,draw_prob) == home_win_prob:\n",
    "            points = 3\n",
    "            fixtures.loc[home, 'Points'] += 3\n",
    "            fixtures.loc[home, 'Total_Prob'] += home_win_prob\n",
    "            fixtures.loc[away, 'Total_Prob'] += away_win_prob\n",
    "            print(\"{} wins with a probability of {:.2f}%\".format(home, home_win_prob))\n",
    "    print()"
   ]
  },
  {
   "cell_type": "markdown",
   "metadata": {},
   "source": [
    "Some probabilities are not more than 50% because the maximum of (Win Probability, Draw Probability and Loss Probability) is taken to make the decision, and hence the maximum probability selected might not be more than 50%."
   ]
  },
  {
   "cell_type": "markdown",
   "metadata": {},
   "source": [
    "#### Function to simulate a knockout match"
   ]
  },
  {
   "cell_type": "code",
   "execution_count": 44,
   "metadata": {},
   "outputs": [],
   "source": [
    "def knockout(home,away):\n",
    "    print(\"{} vs. {}: \".format(home, away), end='')\n",
    "    match = pd.DataFrame(np.array([[np.nan, np.nan, np.nan, np.nan, np.nan, np.nan]]), columns=['host','impt','home_pts_diff','away_pts_diff','rank_diff','weighted_diff'])\n",
    "    match['host'] = 1 if home=='Brazil' or away=='Brazil' else 0\n",
    "    match['impt'] = 1\n",
    "    match['home_pts_diff'] = current_ranking.loc[home,'pts_diff']\n",
    "    match['away_pts_diff'] = current_ranking.loc[away,'pts_diff']\n",
    "    match['rank_diff'] = current_ranking.loc[home,'rank'] - current_ranking.loc[away,'rank']\n",
    "    match['weighted_diff'] = current_ranking.loc[home,'mean_weighted'] - current_ranking.loc[away,'mean_weighted']\n",
    "    base_home_goals = max(fixtures.loc[home,'avg score'],fixtures.loc[away,'avg conceded'])\n",
    "    base_away_goals = max(fixtures.loc[home,'avg conceded'],fixtures.loc[away,'avg score'])\n",
    "    home_diff_in_countries = (0.35*(fixtures.loc[home,'SPI']-fixtures.loc[away,'SPI']) +\n",
    "                              0.20*(fixtures.loc[home,'Potential']-fixtures.loc[away,'Potential'])+\n",
    "                              0.20*(fixtures.loc[home,'Part.']-fixtures.loc[away,'Part.'])-\n",
    "                              0.05*(fixtures.loc[home,'Age']-fixtures.loc[away,'Age'])+\n",
    "                              0.05*(fixtures.loc[home,'Height']-fixtures.loc[away,'Height'])+\n",
    "                              0.15*(fixtures.loc[home,'Overall']-fixtures.loc[away,'Overall']))\n",
    "    \n",
    "    away_diff_in_countries = (0.35*(fixtures.loc[away,'SPI']-fixtures.loc[home,'SPI']) +\n",
    "                              0.20*(fixtures.loc[away,'Potential']-fixtures.loc[home,'Potential'])+\n",
    "                              0.20*(fixtures.loc[away,'Part.']-fixtures.loc[home,'Part.'])-\n",
    "                              0.05*(fixtures.loc[away,'Age']-fixtures.loc[home,'Age'])+\n",
    "                              0.05*(fixtures.loc[away,'Height']-fixtures.loc[home,'Height'])+\n",
    "                              0.15*(fixtures.loc[away,'Overall']-fixtures.loc[home,'Overall']))\n",
    "    \n",
    "    mean_home_goals = max(0,base_home_goals + home_diff_in_countries)\n",
    "    mean_away_goals = max(0,base_away_goals + away_diff_in_countries)\n",
    "    home_prob_goals = list()\n",
    "    away_prob_goals = list()\n",
    "    home_prob_goals_rfmodel = list(rf_home.predict_proba(match)[0])\n",
    "    away_prob_goals_rfmodel = list(rf_away.predict_proba(match)[0])\n",
    "    for i in range(7):\n",
    "        home_prob_goals.append(0.7*poisson.pmf(i,mean_home_goals) + 0.3*home_prob_goals_rfmodel[i])\n",
    "        away_prob_goals.append(0.7*poisson.pmf(i,mean_away_goals) + 0.3*away_prob_goals_rfmodel[i])\n",
    "    \n",
    "    home_goals = np.argmax(home_prob_goals)\n",
    "    away_goals = np.argmax(away_prob_goals)\n",
    "    \n",
    "    if home_goals>away_goals:\n",
    "        print(\"{} wins {} with score of {}:{}\".format(home,away,str(home_goals),str(away_goals)),end='')\n",
    "        winners.append(home)\n",
    "        losers.append(away)\n",
    "    elif home_goals<away_goals:\n",
    "        print(\"{} wins {} with score of {}:{}\".format(away,home,str(away_goals),str(home_goals)),end='')\n",
    "        winners.append(away)\n",
    "        losers.append(home)\n",
    "    else:\n",
    "        team = [home,away]\n",
    "        win = random.choice(team)\n",
    "        team.remove(win)\n",
    "        loser = team[0]\n",
    "        print(\"{} draws with {} with a score of {}:{} after Extra-Time and {} wins the Penalty Shootout\".format(home,away,str(home_goals),str(away_goals),win),end='')\n",
    "        winners.append(win)\n",
    "        losers.append(loser)\n",
    "    print()"
   ]
  },
  {
   "cell_type": "markdown",
   "metadata": {},
   "source": [
    "#### Training the selected classifier(s) for Knockout Matches"
   ]
  },
  {
   "cell_type": "code",
   "execution_count": 45,
   "metadata": {},
   "outputs": [
    {
     "name": "stdout",
     "output_type": "stream",
     "text": [
      "\n"
     ]
    }
   ],
   "source": [
    "features = result.loc[0:,['host','impt','home_pts_diff','away_pts_diff','rank_diff','weighted_diff']]\n",
    "labels_home = result.loc[:,['home_score']]\n",
    "labels_away = result.loc[:,['away_score']]\n",
    "\n",
    "rf_home = RandomForestClassifier(n_estimators=100,max_depth= 8, max_leaf_nodes=110, min_samples_leaf= 2, min_samples_split= 2, n_jobs=-1)\n",
    "rf_home.fit(features,labels_home)\n",
    "rf_away = RandomForestClassifier(n_estimators=100,max_depth= 7, max_leaf_nodes=90, min_samples_leaf= 4, min_samples_split= 2, n_jobs=-1)\n",
    "rf_away.fit(features,labels_away)\n",
    "\n",
    "print()"
   ]
  },
  {
   "cell_type": "markdown",
   "metadata": {},
   "source": [
    "#### Creating fixtures for Knockout Stages"
   ]
  },
  {
   "cell_type": "code",
   "execution_count": 46,
   "metadata": {},
   "outputs": [
    {
     "data": {
      "text/html": [
       "<div>\n",
       "<style scoped>\n",
       "    .dataframe tbody tr th:only-of-type {\n",
       "        vertical-align: middle;\n",
       "    }\n",
       "\n",
       "    .dataframe tbody tr th {\n",
       "        vertical-align: top;\n",
       "    }\n",
       "\n",
       "    .dataframe thead th {\n",
       "        text-align: right;\n",
       "    }\n",
       "</style>\n",
       "<table border=\"1\" class=\"dataframe\">\n",
       "  <thead>\n",
       "    <tr style=\"text-align: right;\">\n",
       "      <th></th>\n",
       "      <th>Group</th>\n",
       "      <th>Age</th>\n",
       "      <th>D</th>\n",
       "      <th>Dif</th>\n",
       "      <th>First_match_Against</th>\n",
       "      <th>GA</th>\n",
       "      <th>GF</th>\n",
       "      <th>GP</th>\n",
       "      <th>Height</th>\n",
       "      <th>L</th>\n",
       "      <th>...</th>\n",
       "      <th>Pts</th>\n",
       "      <th>Pts/GP</th>\n",
       "      <th>SPI</th>\n",
       "      <th>Second_match_Against</th>\n",
       "      <th>Third_match_Against</th>\n",
       "      <th>Total_Prob</th>\n",
       "      <th>W</th>\n",
       "      <th>Winners</th>\n",
       "      <th>avg conceded</th>\n",
       "      <th>avg score</th>\n",
       "    </tr>\n",
       "    <tr>\n",
       "      <th>Team</th>\n",
       "      <th></th>\n",
       "      <th></th>\n",
       "      <th></th>\n",
       "      <th></th>\n",
       "      <th></th>\n",
       "      <th></th>\n",
       "      <th></th>\n",
       "      <th></th>\n",
       "      <th></th>\n",
       "      <th></th>\n",
       "      <th></th>\n",
       "      <th></th>\n",
       "      <th></th>\n",
       "      <th></th>\n",
       "      <th></th>\n",
       "      <th></th>\n",
       "      <th></th>\n",
       "      <th></th>\n",
       "      <th></th>\n",
       "      <th></th>\n",
       "      <th></th>\n",
       "    </tr>\n",
       "  </thead>\n",
       "  <tbody>\n",
       "    <tr>\n",
       "      <th>Brazil</th>\n",
       "      <td>A</td>\n",
       "      <td>27.00</td>\n",
       "      <td>35.0</td>\n",
       "      <td>205.0</td>\n",
       "      <td>Bolivia</td>\n",
       "      <td>200.0</td>\n",
       "      <td>405.0</td>\n",
       "      <td>178.0</td>\n",
       "      <td>180.09</td>\n",
       "      <td>44.0</td>\n",
       "      <td>...</td>\n",
       "      <td>332.0</td>\n",
       "      <td>1.87</td>\n",
       "      <td>2.39</td>\n",
       "      <td>Venezuela</td>\n",
       "      <td>Peru</td>\n",
       "      <td>2.240562</td>\n",
       "      <td>99.0</td>\n",
       "      <td>8.0</td>\n",
       "      <td>1.12</td>\n",
       "      <td>2.28</td>\n",
       "    </tr>\n",
       "    <tr>\n",
       "      <th>Paraguay</th>\n",
       "      <td>B</td>\n",
       "      <td>27.52</td>\n",
       "      <td>39.0</td>\n",
       "      <td>-40.0</td>\n",
       "      <td>Qatar</td>\n",
       "      <td>293.0</td>\n",
       "      <td>253.0</td>\n",
       "      <td>168.0</td>\n",
       "      <td>178.48</td>\n",
       "      <td>67.0</td>\n",
       "      <td>...</td>\n",
       "      <td>225.0</td>\n",
       "      <td>1.34</td>\n",
       "      <td>0.90</td>\n",
       "      <td>Argentina</td>\n",
       "      <td>Colombia</td>\n",
       "      <td>0.885932</td>\n",
       "      <td>62.0</td>\n",
       "      <td>2.0</td>\n",
       "      <td>1.74</td>\n",
       "      <td>1.51</td>\n",
       "    </tr>\n",
       "    <tr>\n",
       "      <th>Peru</th>\n",
       "      <td>A</td>\n",
       "      <td>26.57</td>\n",
       "      <td>35.0</td>\n",
       "      <td>-19.0</td>\n",
       "      <td>Venezuela</td>\n",
       "      <td>232.0</td>\n",
       "      <td>213.0</td>\n",
       "      <td>148.0</td>\n",
       "      <td>177.35</td>\n",
       "      <td>59.0</td>\n",
       "      <td>...</td>\n",
       "      <td>197.0</td>\n",
       "      <td>1.33</td>\n",
       "      <td>1.25</td>\n",
       "      <td>Bolivia</td>\n",
       "      <td>Brazil</td>\n",
       "      <td>1.248531</td>\n",
       "      <td>54.0</td>\n",
       "      <td>2.0</td>\n",
       "      <td>1.57</td>\n",
       "      <td>1.44</td>\n",
       "    </tr>\n",
       "    <tr>\n",
       "      <th>Colombia</th>\n",
       "      <td>B</td>\n",
       "      <td>25.52</td>\n",
       "      <td>24.0</td>\n",
       "      <td>-53.0</td>\n",
       "      <td>Argentina</td>\n",
       "      <td>184.0</td>\n",
       "      <td>131.0</td>\n",
       "      <td>113.0</td>\n",
       "      <td>182.22</td>\n",
       "      <td>47.0</td>\n",
       "      <td>...</td>\n",
       "      <td>150.0</td>\n",
       "      <td>1.33</td>\n",
       "      <td>1.60</td>\n",
       "      <td>Qatar</td>\n",
       "      <td>Paraguay</td>\n",
       "      <td>1.636587</td>\n",
       "      <td>42.0</td>\n",
       "      <td>1.0</td>\n",
       "      <td>1.63</td>\n",
       "      <td>1.16</td>\n",
       "    </tr>\n",
       "    <tr>\n",
       "      <th>Argentina</th>\n",
       "      <td>B</td>\n",
       "      <td>26.70</td>\n",
       "      <td>38.0</td>\n",
       "      <td>282.0</td>\n",
       "      <td>Colombia</td>\n",
       "      <td>173.0</td>\n",
       "      <td>455.0</td>\n",
       "      <td>189.0</td>\n",
       "      <td>180.30</td>\n",
       "      <td>31.0</td>\n",
       "      <td>...</td>\n",
       "      <td>398.0</td>\n",
       "      <td>2.11</td>\n",
       "      <td>1.59</td>\n",
       "      <td>Paraguay</td>\n",
       "      <td>Qatar</td>\n",
       "      <td>1.837214</td>\n",
       "      <td>120.0</td>\n",
       "      <td>14.0</td>\n",
       "      <td>0.92</td>\n",
       "      <td>2.41</td>\n",
       "    </tr>\n",
       "  </tbody>\n",
       "</table>\n",
       "<p>5 rows × 25 columns</p>\n",
       "</div>"
      ],
      "text/plain": [
       "          Group    Age     D    Dif First_match_Against     GA     GF     GP  \\\n",
       "Team                                                                           \n",
       "Brazil        A  27.00  35.0  205.0             Bolivia  200.0  405.0  178.0   \n",
       "Paraguay      B  27.52  39.0  -40.0               Qatar  293.0  253.0  168.0   \n",
       "Peru          A  26.57  35.0  -19.0           Venezuela  232.0  213.0  148.0   \n",
       "Colombia      B  25.52  24.0  -53.0           Argentina  184.0  131.0  113.0   \n",
       "Argentina     B  26.70  38.0  282.0            Colombia  173.0  455.0  189.0   \n",
       "\n",
       "           Height     L    ...       Pts  Pts/GP   SPI  Second_match_Against  \\\n",
       "Team                       ...                                                 \n",
       "Brazil     180.09  44.0    ...     332.0    1.87  2.39             Venezuela   \n",
       "Paraguay   178.48  67.0    ...     225.0    1.34  0.90             Argentina   \n",
       "Peru       177.35  59.0    ...     197.0    1.33  1.25               Bolivia   \n",
       "Colombia   182.22  47.0    ...     150.0    1.33  1.60                 Qatar   \n",
       "Argentina  180.30  31.0    ...     398.0    2.11  1.59              Paraguay   \n",
       "\n",
       "           Third_match_Against  Total_Prob      W  Winners avg conceded  \\\n",
       "Team                                                                      \n",
       "Brazil                    Peru    2.240562   99.0      8.0         1.12   \n",
       "Paraguay              Colombia    0.885932   62.0      2.0         1.74   \n",
       "Peru                    Brazil    1.248531   54.0      2.0         1.57   \n",
       "Colombia              Paraguay    1.636587   42.0      1.0         1.63   \n",
       "Argentina                Qatar    1.837214  120.0     14.0         0.92   \n",
       "\n",
       "          avg score  \n",
       "Team                 \n",
       "Brazil         2.28  \n",
       "Paraguay       1.51  \n",
       "Peru           1.44  \n",
       "Colombia       1.16  \n",
       "Argentina      2.41  \n",
       "\n",
       "[5 rows x 25 columns]"
      ]
     },
     "execution_count": 46,
     "metadata": {},
     "output_type": "execute_result"
    }
   ],
   "source": [
    "pairing = [0,7,3,4,1,5,2,6]\n",
    "fixtures = fixtures.sort_values(['Points','Group'],ascending=[False,True]).reset_index()\n",
    "Finals = fixtures.groupby('Group').nth([0,1]).reset_index().set_index('Team')\n",
    "#Finals.sort_values(['Points','Group'],ascending=[False,True],inplace=True)\n",
    "thirdPlaced=fixtures.groupby('Group').nth([2]).sort_values(['Points','Total_Prob'],ascending=[False,False]).reset_index().set_index('Team')\n",
    "Finals=Finals.append(thirdPlaced.iloc[:2,:])\n",
    "Finals.sort_values(['Points','Group'],ascending=[False,True],inplace=True)\n",
    "Finals.reset_index(inplace=True)\n",
    "Finals = Finals.loc[pairing].set_index('Team')\n",
    "fixtures.set_index('Team',inplace=True)\n",
    "Finals.head()"
   ]
  },
  {
   "cell_type": "markdown",
   "metadata": {},
   "source": [
    "#### Quarterfinals and Semifinals"
   ]
  },
  {
   "cell_type": "code",
   "execution_count": 47,
   "metadata": {
    "scrolled": true
   },
   "outputs": [
    {
     "name": "stdout",
     "output_type": "stream",
     "text": [
      "___Starting of the Quarter-Finals___\n",
      "Brazil vs. Paraguay: Brazil wins Paraguay with score of 2:0\n",
      "Peru vs. Colombia: Colombia wins Peru with score of 1:0\n",
      "Argentina vs. Chile: Argentina wins Chile with score of 2:0\n",
      "Uruguay vs. Venezuela: Uruguay wins Venezuela with score of 3:0\n",
      "\n",
      "Semi-Finalists: Brazil,Colombia,Argentina,Uruguay\n",
      "\n",
      "___Starting of the Semi-Finals___\n",
      "Brazil vs. Colombia: Brazil wins Colombia with score of 2:0\n",
      "Argentina vs. Uruguay: Argentina draws with Uruguay with a score of 1:1 after Extra-Time and Uruguay wins the Penalty Shootout\n",
      "\n",
      "Finalists: Brazil,Uruguay\n",
      "\n"
     ]
    }
   ],
   "source": [
    "finals = ['Quarter-Finals','Semi-Finals']\n",
    "\n",
    "for f in finals:\n",
    "    print(\"___Starting of the {}___\".format(f))\n",
    "    iterations = int(len(Finals) / 2)\n",
    "    winners = list()\n",
    "    losers = list()\n",
    "    for i in range(iterations):\n",
    "        home = Finals.index[i*2]\n",
    "        away = Finals.index[i*2+1]        \n",
    "        knockout(home,away)\n",
    "    Finals = Finals.loc[winners]    \n",
    "    if len(winners)>2:\n",
    "        print('\\nSemi-Finalists: ' + winners[0] + ',' + winners[1] + ',' + winners[2] + ',' + winners[3] + '\\n')\n",
    "    else:\n",
    "        print('\\nFinalists: ' + winners[0] + ',' + winners[1] + '\\n')\n",
    "\n",
    "finalists = winners"
   ]
  },
  {
   "cell_type": "markdown",
   "metadata": {},
   "source": [
    "#### Third Place Playoff and Final"
   ]
  },
  {
   "cell_type": "code",
   "execution_count": 48,
   "metadata": {
    "scrolled": true
   },
   "outputs": [
    {
     "name": "stdout",
     "output_type": "stream",
     "text": [
      "___Third Place Playoff___\n",
      "Colombia vs. Argentina: Argentina wins Colombia with score of 2:0\n",
      "\n",
      "___Copa America Final___\n",
      "Brazil vs. Uruguay: Brazil wins Uruguay with score of 2:1\n",
      "\n",
      "Brazil wins the Copa America 2019.\n",
      "\n",
      "Uruguay are Runners-up.\n",
      "\n",
      "Argentina secures Third place.\n",
      "\n",
      "Colombia secures Fourth place after losing from Argentina in the Playoff\n",
      "\n"
     ]
    }
   ],
   "source": [
    "print(\"___Third Place Playoff___\")\n",
    "home = losers[0]\n",
    "away = losers[1]\n",
    "winners = list()\n",
    "losers = list()\n",
    "knockout(home,away)\n",
    "third = winners[0]\n",
    "fourth = losers[0]\n",
    "\n",
    "print(\"\\n___Copa America Final___\")\n",
    "home = finalists[0]\n",
    "away = finalists[1]\n",
    "knockout(home,away)\n",
    "champion = winners[1]\n",
    "runners_up = losers[1]\n",
    "\n",
    "print(\"\\n{} wins the Copa America 2019.\\n\".format(champion))\n",
    "print(\"{} are Runners-up.\\n\".format(runners_up))\n",
    "print(\"{} secures Third place.\\n\".format(third))\n",
    "print(\"{} secures Fourth place after losing from {} in the Playoff\\n\".format(fourth,third))"
   ]
  }
 ],
 "metadata": {
  "kernelspec": {
   "display_name": "Python 3",
   "language": "python",
   "name": "python3"
  },
  "language_info": {
   "codemirror_mode": {
    "name": "ipython",
    "version": 3
   },
   "file_extension": ".py",
   "mimetype": "text/x-python",
   "name": "python",
   "nbconvert_exporter": "python",
   "pygments_lexer": "ipython3",
   "version": "3.7.1"
  }
 },
 "nbformat": 4,
 "nbformat_minor": 2
}
